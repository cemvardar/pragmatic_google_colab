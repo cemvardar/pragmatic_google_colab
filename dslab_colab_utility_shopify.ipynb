{
  "nbformat": 4,
  "nbformat_minor": 0,
  "metadata": {
    "colab": {
      "provenance": [],
      "authorship_tag": "ABX9TyPV+AzEWr+Rji9wJPu3NVze",
      "include_colab_link": true
    },
    "kernelspec": {
      "name": "python3",
      "display_name": "Python 3"
    },
    "language_info": {
      "name": "python"
    }
  },
  "cells": [
    {
      "cell_type": "markdown",
      "metadata": {
        "id": "view-in-github",
        "colab_type": "text"
      },
      "source": [
        "<a href=\"https://colab.research.google.com/github/cemvardar/pragmatic_google_colab/blob/main/dslab_colab_utility_shopify.ipynb\" target=\"_parent\"><img src=\"https://colab.research.google.com/assets/colab-badge.svg\" alt=\"Open In Colab\"/></a>"
      ]
    },
    {
      "cell_type": "code",
      "source": [
        "from google.colab import userdata\n",
        "import requests\n",
        "import json"
      ],
      "metadata": {
        "id": "QnxJ8qaqns7P"
      },
      "execution_count": null,
      "outputs": []
    },
    {
      "cell_type": "code",
      "execution_count": null,
      "metadata": {
        "colab": {
          "base_uri": "https://localhost:8080/"
        },
        "id": "Dfkm-SZ4nLGc",
        "outputId": "9438441d-3aaf-4d29-afff-263496ae1a45"
      },
      "outputs": [
        {
          "output_type": "stream",
          "name": "stdout",
          "text": [
            "187 products\n",
            "88 collections\n"
          ]
        }
      ],
      "source": [
        "class Product:\n",
        "    def __init__(self, shopify_data):\n",
        "        self.shopify_data = shopify_data\n",
        "        self.title = self.shopify_data['title']\n",
        "        self.product_type = self.shopify_data['product_type']\n",
        "        self.body_html = self.shopify_data['body_html']\n",
        "        self.tags = self.shopify_data['tags']\n",
        "        self.id = self.shopify_data['id']\n",
        "        self.handle = f\"https://www.liplips.co.uk/products/{self.shopify_data['handle']}\"\n",
        "        self.status = self.shopify_data['status']\n",
        "        self.is_active = self.status=='active'\n",
        "\n",
        "\n",
        "class Collection():\n",
        "    def __init__(self, shopify_data):\n",
        "        self.shopify_data = shopify_data\n",
        "        self.title = self.shopify_data['title']\n",
        "        self.body_html = self.shopify_data['body_html']\n",
        "        self.id = self.shopify_data['id']\n",
        "        # self.collects = get_shopify_data('collects', ('collection_id', self.id))['collects']\n",
        "        self.collects = None\n",
        "        self.handle = f\"https://www.liplips.co.uk/collections/{self.shopify_data['handle']}\"\n",
        "        self.admin_handle = f\"https://admin.shopify.com/store/liplipsstore/collections/{self.id}\"\n",
        "\n",
        "    def products_list(self):\n",
        "        products_list = []\n",
        "        if self.collects == None:\n",
        "            self.collects = get_shopify_data('collects', ('collection_id', self.id))['collects']\n",
        "        for collect in self.collects:\n",
        "            products_list.append(products_dict[collect['product_id']])\n",
        "        return products_list\n",
        "\n",
        "    def get_product_image_url(self, product_index):\n",
        "        products = self.products_list()\n",
        "        return products[product_index].shopify_data['images'][0]['src']\n",
        "\n",
        "    def get_video_file_name(self):\n",
        "        return f\"{self.title.replace(' ', '_')}.mp4\"\n",
        "\n",
        "\n",
        "def get_api_url(element, query_tuple=None):\n",
        "    url_template = f'https://liplipsstore.myshopify.com/admin/api/2024-04/{element}.json'\n",
        "    if query_tuple is not None:\n",
        "        query_suffix = f'?{query_tuple[0]}={query_tuple[1]}'\n",
        "        return url_template+query_suffix\n",
        "    return url_template\n",
        "\n",
        "def get_shopify_data(element, query_tuple=None, fields=None):\n",
        "    access_token = userdata.get('liplips_shopify_token')\n",
        "\n",
        "    # Set up the headers with the necessary authentication\n",
        "    headers = {\n",
        "        \"Content-Type\": \"application/json\",\n",
        "        \"X-Shopify-Access-Token\": access_token\n",
        "    }\n",
        "    params = {'limit': 250}\n",
        "    if fields is not None:\n",
        "        params['fields'] = fields\n",
        "    # Define the endpoint for fetching products\n",
        "    url = get_api_url(element, query_tuple)\n",
        "\n",
        "    # Make the HTTP GET request to the Shopify API\n",
        "    response = requests.get(url, headers=headers, params=params)\n",
        "\n",
        "    # Check if the request was successful\n",
        "    if response.status_code == 200:\n",
        "        # Load the JSON data from the response\n",
        "        products = response.json()\n",
        "\n",
        "    else:\n",
        "        print(f\"Failed to retrieve products: {response.status_code}\")\n",
        "    return products\n",
        "\n",
        "def get_collection_dict():\n",
        "    element = 'custom_collections'\n",
        "    collections = get_shopify_data(element)[element]\n",
        "    print(f'{len(collections)} collections')\n",
        "    collection_dict = {}\n",
        "    for collection_data in collections:\n",
        "        collection = Collection(collection_data)\n",
        "        collection_dict[collection.id] = collection\n",
        "\n",
        "    return collection_dict\n",
        "\n",
        "\n",
        "def get_product_dict():\n",
        "    element = 'products'\n",
        "    products = get_shopify_data(element)[element]\n",
        "\n",
        "    print(f'{len(products)} products')\n",
        "\n",
        "    products_dict = {}\n",
        "    for product_data in products:\n",
        "        product = Product(product_data)\n",
        "        products_dict[product.id] = product\n",
        "\n",
        "    return products_dict\n",
        "\n",
        "products_dict = get_product_dict()\n",
        "collection_dict = get_collection_dict()\n",
        "products = list(products_dict.values())\n",
        "collections = list(collection_dict.values())"
      ]
    },
    {
      "cell_type": "code",
      "source": [
        "def add_product_to_shopify(product_data):\n",
        "    # Headers for authentication and content type\n",
        "    headers = {\n",
        "        \"Content-Type\": \"application/json\",\n",
        "        \"X-Shopify-Access-Token\": userdata.get('liplips_shopify_token')\n",
        "    }\n",
        "\n",
        "    # Data to be updated\n",
        "    data = {\n",
        "        \"product\": product_data\n",
        "    }\n",
        "\n",
        "    # API endpoint to update the product\n",
        "    url = f'https://liplipsstore.myshopify.com/admin/api/2023-01/products.json'\n",
        "\n",
        "    # Make the PUT request to update the product description\n",
        "    response = requests.post(url, headers=headers, json=data)\n",
        "\n",
        "    # Check the response\n",
        "    if response.status_code == 201:\n",
        "        print(\"Product description updated successfully.\")\n",
        "        updated_product = response.json()\n",
        "        print(f'''https://admin.shopify.com/store/liplipsstore/products/{updated_product['product']['id']}''')\n",
        "    else:\n",
        "        print(f\"Failed to update product: {response.status_code} - {response.text}\")\n",
        "    return updated_product\n",
        "\n",
        "# product_data = {\n",
        "#             \"title\": \"aaaa test\",\n",
        "#             \"vendor\": \"Liplips\",\n",
        "#             \"body_html\": 'testing',\n",
        "#             \"product_type\": \"Necklaces\",\n",
        "#             'status': 'draft',\n",
        "#             \"variants\": [\n",
        "#                 {\n",
        "#                     \"option1\": \"Default Title\",\n",
        "#                     \"price\": 10,\n",
        "#                     \"sku\": 'rs_test',\n",
        "#                     \"inventory_management\": \"shopify\",\n",
        "#                     \"inventory_quantity\": 5\n",
        "#                 }\n",
        "#                 ],\n",
        "#             'images': []\n",
        "#             }\n",
        "\n",
        "# updated_product = add_product_to_shopify(product_data)\n"
      ],
      "metadata": {
        "id": "3AkdUD7dnmxv"
      },
      "execution_count": null,
      "outputs": []
    },
    {
      "cell_type": "code",
      "source": [
        "def get_blogs_and_posts():\n",
        "    # Get blogs\n",
        "    blogs = get_shopify_data('blogs')['blogs']\n",
        "    all_blog_posts = []\n",
        "    # Loop over blogs\n",
        "    for blog in blogs:\n",
        "        # Get blog posts for each blog\n",
        "        blog_posts = get_shopify_data('articles', ('blog_id', blog['id']))['articles']\n",
        "        all_blog_posts.extend(blog_posts)\n",
        "    return blogs, all_blog_posts\n",
        "\n",
        "blogs, blog_posts = get_blogs_and_posts()\n",
        "# print(f\"Number of blogs: {len(blogs)}\")\n",
        "# print(f\"Number of blog posts: {len(blog_posts)}\")"
      ],
      "metadata": {
        "id": "pVrwp6oWo7Jl"
      },
      "execution_count": null,
      "outputs": []
    },
    {
      "cell_type": "code",
      "source": [
        "def get_metafields_for_resource(resource_type, resource_id):\n",
        "    access_token = userdata.get('liplips_shopify_token')\n",
        "\n",
        "    # Set up the headers with the necessary authentication\n",
        "    headers = {\n",
        "        \"Content-Type\": \"application/json\",\n",
        "        \"X-Shopify-Access-Token\": access_token\n",
        "    }\n",
        "    # Define the endpoint for fetching metafields\n",
        "    url = f'https://liplipsstore.myshopify.com/admin/api/2023-01/{resource_type}/{resource_id}/metafields.json'\n",
        "\n",
        "    # Make the HTTP GET request to the Shopify API\n",
        "    response = requests.get(url, headers=headers)\n",
        "\n",
        "    # Check if the request was successful\n",
        "    if response.status_code == 200:\n",
        "        # Load the JSON data from the response\n",
        "        metafields = response.json()['metafields']\n",
        "        return metafields\n",
        "\n",
        "    else:\n",
        "        print(f\"Failed to retrieve metafields: {response.status_code}\")\n",
        "        return None\n",
        "\n",
        "# Example usage:\n",
        "# blog_post_id = 558719139882  # Replace with the actual blog post ID\n",
        "# metafields = get_metafields_for_resource('articles', blog_post_id)\n",
        "# metafields"
      ],
      "metadata": {
        "id": "9myL9x0lZlPf"
      },
      "execution_count": null,
      "outputs": []
    },
    {
      "cell_type": "code",
      "source": [
        "def update_metafield(resource_type, resource_id, data):\n",
        "    access_token = userdata.get('liplips_shopify_token')\n",
        "\n",
        "    # Set up the headers with the necessary authentication\n",
        "    headers = {\n",
        "        \"Content-Type\": \"application/json\",\n",
        "        \"X-Shopify-Access-Token\": access_token\n",
        "    }\n",
        "\n",
        "    url = f'https://liplipsstore.myshopify.com/admin/api/2023-01/{resource_type}/{resource_id}/metafields.json'\n",
        "    response = requests.post(url, headers=headers, json=data)\n",
        "\n",
        "    if (response.status_code == 200) or (response.status_code == 201):\n",
        "        print(f\"Metafield updated successfully. HTML code {response.status_code}\")\n",
        "    else:\n",
        "        print(f\"Failed to update metafield: {response.status_code}, {response.text}\")\n",
        "\n",
        "# new_value = \"gid://shopify/Collection/280784896042\"\n",
        "# data = {\n",
        "#     \"metafield\": {'namespace': 'custom',\n",
        "#                   'key': 'blog_collection2',\n",
        "#                   'value': new_value\n",
        "#     }\n",
        "# }\n",
        "# update_metafield('articles' , 558719139882, data)\n",
        "\n",
        "\n",
        "# data = {\n",
        "#     \"metafield\": {\n",
        "#                 'namespace': 'global',\n",
        "#                 'key': 'title_tag',\n",
        "#                 'value': 'Flower-inspired Jewellery | Liplips Studio'\n",
        "#                 }\n",
        "# }\n",
        "# update_metafield('custom_collections', 280707760170, data)"
      ],
      "metadata": {
        "colab": {
          "base_uri": "https://localhost:8080/"
        },
        "id": "xGi5v_7f2IDF",
        "outputId": "516cb616-80be-47d4-e48c-286ded7c0886"
      },
      "execution_count": null,
      "outputs": [
        {
          "output_type": "stream",
          "name": "stdout",
          "text": [
            "Metafield updated successfully. HTML code 201\n"
          ]
        }
      ]
    },
    {
      "cell_type": "code",
      "source": [
        "def add_to_shopify(element_type, element_data):\n",
        "    # Headers for authentication and content type\n",
        "    headers = {\n",
        "        \"Content-Type\": \"application/json\",\n",
        "        \"X-Shopify-Access-Token\": userdata.get('liplips_shopify_token')\n",
        "    }\n",
        "\n",
        "    # API endpoint to add the element\n",
        "    url = f'https://liplipsstore.myshopify.com/admin/api/2023-01/{element_type}.json'\n",
        "\n",
        "    # Data to be added, wrapped in the appropriate key\n",
        "    data = {\n",
        "        element_type[:-1]: element_data  # Remove the trailing 's' from element_type\n",
        "    }\n",
        "\n",
        "    # Make the POST request\n",
        "    response = requests.post(url, headers=headers, json=data)\n",
        "\n",
        "    # Check the response\n",
        "    if response.status_code == 201:\n",
        "        print(f\"{element_type[:-1]} added successfully.\")\n",
        "        added_element = response.json()\n",
        "        print(f'''https://admin.shopify.com/store/liplipsstore/{element_type}/{added_element[element_type[:-1]]['id']}''')\n",
        "    else:\n",
        "        print(f\"Failed to add {element_type[:-1]}: {response.status_code} - {response.text}\")\n",
        "    return added_element"
      ],
      "metadata": {
        "id": "D1tjjCR98mPw"
      },
      "execution_count": null,
      "outputs": []
    },
    {
      "cell_type": "code",
      "source": [
        "# article_data = {\n",
        "#     \"title\": \"New Summer Collection Launch\",\n",
        "#     \"author\": \"Liplips Team\",\n",
        "#     \"blog_id\": 84788740138,  # Replace with actual blog ID\n",
        "#     \"body_html\": \"<h2>Get ready for summer with our latest collection!</h2><p>Check out our new vibrant colors and styles...</p>\",\n",
        "#     \"tags\": \"summer, new collection, fashion\",\n",
        "#     'published_at': None,\n",
        "#     'summary_html': \"excerpt sample\",\n",
        "#     \"metafields\": [\n",
        "#         {\n",
        "#             \"namespace\": \"custom\",\n",
        "#             \"key\": \"blog_collection2\",\n",
        "#             \"value\": \"gid://shopify/Collection/280784896042\",\n",
        "#             \"value_type\": \"string\"\n",
        "#         },\n",
        "#         {\n",
        "#             \"namespace\": \"custom\",\n",
        "#             \"key\": \"blog_collection_1\",\n",
        "#             \"value\": \"gid://shopify/Collection/280784896042\",\n",
        "#             \"value_type\": \"string\"\n",
        "#         }\n",
        "#     ]\n",
        "# }\n",
        "# added_article = add_to_shopify(\"articles\", article_data)"
      ],
      "metadata": {
        "colab": {
          "base_uri": "https://localhost:8080/"
        },
        "id": "sZLPmFcW8rKm",
        "outputId": "475f7689-b6d7-47fe-bf70-fa85119d9df9"
      },
      "execution_count": null,
      "outputs": [
        {
          "output_type": "stream",
          "name": "stdout",
          "text": [
            "article added successfully.\n",
            "https://admin.shopify.com/store/liplipsstore/articles/558721007658\n"
          ]
        }
      ]
    },
    {
      "cell_type": "code",
      "source": [],
      "metadata": {
        "id": "4IdLuKN69Aao"
      },
      "execution_count": null,
      "outputs": []
    }
  ]
}