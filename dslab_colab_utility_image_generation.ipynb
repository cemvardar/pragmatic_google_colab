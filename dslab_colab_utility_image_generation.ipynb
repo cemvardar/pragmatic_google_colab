{
  "nbformat": 4,
  "nbformat_minor": 0,
  "metadata": {
    "colab": {
      "provenance": [],
      "authorship_tag": "ABX9TyNVuzWl2ur9CZPUnHeUgIuM",
      "include_colab_link": true
    },
    "kernelspec": {
      "name": "python3",
      "display_name": "Python 3"
    },
    "language_info": {
      "name": "python"
    }
  },
  "cells": [
    {
      "cell_type": "markdown",
      "metadata": {
        "id": "view-in-github",
        "colab_type": "text"
      },
      "source": [
        "<a href=\"https://colab.research.google.com/github/cemvardar/pragmatic_google_colab/blob/main/dslab_colab_utility_image_generation.ipynb\" target=\"_parent\"><img src=\"https://colab.research.google.com/assets/colab-badge.svg\" alt=\"Open In Colab\"/></a>"
      ]
    },
    {
      "cell_type": "code",
      "source": [
        "%%capture\n",
        "import os\n",
        "file_path = 'dslab_colab_utility_main.ipynb'\n",
        "if os.path.exists(file_path):\n",
        "    os.remove(file_path)\n",
        "\n",
        "\n",
        "!wget https://github.com/cemvardar/pragmatic_google_colab/raw/main/dslab_colab_utility_main.ipynb\n",
        "%run dslab_colab_utility_main.ipynb"
      ],
      "metadata": {
        "id": "lxT1dfOvyeCJ"
      },
      "execution_count": 1,
      "outputs": []
    },
    {
      "cell_type": "code",
      "source": [
        "from google.colab import userdata\n",
        "from PIL import Image as Image_PIL\n",
        "from io import BytesIO\n",
        "import io\n",
        "from dataclasses import dataclass"
      ],
      "metadata": {
        "id": "etd5AauUsK96"
      },
      "execution_count": 2,
      "outputs": []
    },
    {
      "cell_type": "code",
      "execution_count": 3,
      "metadata": {
        "id": "3sVxpeq5rqro"
      },
      "outputs": [],
      "source": [
        "@dataclass\n",
        "class LiplipsImage:\n",
        "    url: str\n",
        "    id: str\n",
        "    content: str=None\n",
        "    local_path: str=None\n",
        "    gcp_path: str=None\n",
        "    alt_text: str=None\n",
        "    description: str=None\n",
        "    title: str=None\n",
        "\n",
        "\n",
        "\n",
        "\n",
        "def reduce_image_size(image_content, size_reduction_factor = 0.5):\n",
        "    img = Image_PIL.open(BytesIO(image_content))\n",
        "\n",
        "    # Calculate new dimensions\n",
        "    new_width = int(img.width * size_reduction_factor)\n",
        "    new_height = int(img.height * size_reduction_factor)\n",
        "\n",
        "    # Resize the image\n",
        "    img = img.resize((new_width, new_height), Image_PIL.LANCZOS)\n",
        "    byte_arr = io.BytesIO()\n",
        "    img.save(byte_arr, format='PNG')\n",
        "    byte_arr = byte_arr.getvalue()\n",
        "    return byte_arr\n"
      ]
    },
    {
      "cell_type": "code",
      "source": [
        "def create_ai_image_with_guide(id, image_url, guidence_image_url, seed, sub_folder_path):\n",
        "\n",
        "    # Define the URL and parameters\n",
        "    url = 'https://image-api.photoroom.com/v2/edit'\n",
        "    params = {\n",
        "        # 'background.prompt': prompt,\n",
        "        'background.guidance.imageUrl': guidence_image_url,\n",
        "        'background.seed': seed,\n",
        "        'padding': '0.1',\n",
        "        'shadow.mode': 'ai.soft',\n",
        "        'imageUrl': image_url\n",
        "    }\n",
        "\n",
        "    headers = {\n",
        "        # 'x-api-key': userdata.get('photo_room_live'),\n",
        "        'x-api-key': userdata.get('photo_room_sandbox'),\n",
        "        'pr-ai-background-model-version': '3'\n",
        "    }\n",
        "\n",
        "    # Make the GET request\n",
        "    response = requests.get(url, headers=headers, params=params)\n",
        "\n",
        "    image_id = f\"{id}_{get_time_stamp_string()}\"\n",
        "    image_file_name = f\"{id}_seed_{seed}_{prompt.replace(' ', '-')}\"\n",
        "    image_path = get_file_name_for_export_with_date_time(f'{image_file_name}', 'png')\n",
        "    with open(image_path, 'wb') as f:\n",
        "        f.write(response.content)\n",
        "    uploaded_file_gcp_link = upload_file_to_gcp_generic_mime_type(image_path, sub_folder_path)\n",
        "\n",
        "    rs_image = LiplipsImage(id=image_id, url=uploaded_file_gcp_link)\n",
        "    rs_image.content = reduce_image_size(response.content, 0.2)\n",
        "    rs_image.local_path = image_path\n",
        "    rs_image.gcp_path = uploaded_file_gcp_link\n",
        "    return rs_image"
      ],
      "metadata": {
        "id": "kz6w5dMdr5jL"
      },
      "execution_count": 4,
      "outputs": []
    },
    {
      "cell_type": "code",
      "source": [
        "def create_ai_image(id, image_url, prompt, seed, sub_folder_path,\n",
        "                    remove_watermark=False, image_file_name=None,\n",
        "                    expandPrompt=None, negative_prompt=None):\n",
        "    # Define the URL and parameters\n",
        "    url = 'https://image-api.photoroom.com/v2/edit'\n",
        "    params = {\n",
        "        'background.prompt': prompt,\n",
        "        'background.seed': seed,\n",
        "        'background.expandPrompt': expandPrompt,\n",
        "        'background.negativePrompt': negative_prompt,\n",
        "        'padding': '0.1',\n",
        "        'shadow.mode': 'ai.soft',\n",
        "        'imageUrl': image_url\n",
        "    }\n",
        "\n",
        "    if remove_watermark:\n",
        "        api_key = userdata.get('photo_room_live')\n",
        "    else:\n",
        "        api_key = userdata.get('photo_room_sandbox')\n",
        "\n",
        "\n",
        "    headers = {\n",
        "        'x-api-key': api_key,\n",
        "        'pr-ai-background-model-version': '3'\n",
        "    }\n",
        "\n",
        "    # Make the GET request\n",
        "    response = requests.get(url, headers=headers, params=params)\n",
        "    if image_file_name is None:\n",
        "        image_id = f\"{id}_{get_time_stamp_string()}\"\n",
        "        image_file_name = f\"{id}_seed_{seed}_{prompt[:50].replace(' ', '-')}\"\n",
        "        image_file_name = get_file_name_for_export_with_date_time(f'{image_file_name}', 'png')\n",
        "    with open(image_path, 'wb') as f:\n",
        "        f.write(response.content)\n",
        "    uploaded_file_gcp_link = upload_file_to_gcp_generic_mime_type(image_file_name, sub_folder_path)\n",
        "\n",
        "    rs_image = LiplipsImage(id=image_id, url=uploaded_file_gcp_link)\n",
        "    rs_image.content = reduce_image_size(response.content, 0.2)\n",
        "    rs_image.local_path = image_file_name\n",
        "    rs_image.gcp_path = uploaded_file_gcp_link\n",
        "    return rs_image"
      ],
      "metadata": {
        "id": "c7S7WOxzsAvR"
      },
      "execution_count": 5,
      "outputs": []
    },
    {
      "cell_type": "code",
      "source": [
        "# prompts = [\n",
        "# # 'surface light white without shade',\n",
        "# # 'on a full marble',\n",
        "# # 'on a white surface with 1 plant',\n",
        "# 'on a white surface with 1 flower',\n",
        "# # 'on a wood table with 1 succulant',\n",
        "# 'on a white wood surface with small stones',\n",
        "# # 'on a white wood table with 1 dry flower',\n",
        "# # 'on a white wood table with small quartz gemstones',\n",
        "# # 'on a white wood surface with 1 small seashell',\n",
        "# # 'on a white fabric on table',\n",
        "# # 'the image displays a necklace on a table with a beautiful orange yellow sunset where the clouds are brightly lit from the sunset and a field is in the background slightly blurry',\n",
        "# # 'on a white wood table with 1 small seashell',\n",
        "# # 'on a soft baby blue surface'\n",
        "#  ]"
      ],
      "metadata": {
        "id": "96eh7mLTttgY"
      },
      "execution_count": null,
      "outputs": []
    },
    {
      "cell_type": "code",
      "source": [
        "# id = '2581'\n",
        "# url = 'https://storage.googleapis.com/decision-science-lab-bucket/liplips/roma_silvers_products/rs2502/2581.jpg'\n",
        "# sub_folder_path = 'liplips/roma_silvers_products/rs2502'\n",
        "# seeds = [117879368, 55994449, 48672244, 65080068]\n",
        "# remove_watermark = False\n",
        "# ai_image = create_ai_image(id, url, prompts[0], seeds[0], sub_folder_path, remove_watermark)"
      ],
      "metadata": {
        "colab": {
          "base_uri": "https://localhost:8080/"
        },
        "id": "w3e3XnlTsiFp",
        "outputId": "9944bdc6-7037-47cb-a1c4-3552b30b9fa0"
      },
      "execution_count": null,
      "outputs": [
        {
          "output_type": "stream",
          "name": "stdout",
          "text": [
            "https://storage.googleapis.com/decision-science-lab-bucket/liplips/roma_silvers_products/rs2502/2581_seed_117879368_on-a-white-surface-with-1-flower_07_21_2024_10_33_55.png\n"
          ]
        }
      ]
    },
    {
      "cell_type": "code",
      "source": [
        "# guidence_image_url = 'https://www.liplips.co.uk/cdn/shop/files/2541_prompt_name_pink_background_seed_117879368_07_10_2024_17_18_03_1024x1024@2x.png?v=1720652582'\n",
        "# guidence_image_url = 'https://www.liplips.co.uk/cdn/shop/files/phuket-ametist-balik-kolye-rs2281-1925-Photoroom_1024x1024@2x.jpg'\n",
        "# guidence_image_url = 'https://www.liplips.co.uk/cdn/shop/files/phuket-apatit-balik-kolye-rs2280-2365-Photoroom_2_1024x1024@2x.jpg?v=1720995071'\n",
        "# image = create_ai_image_with_guide(id, url, guidence_image_url, seeds[0], sub_folder_path)"
      ],
      "metadata": {
        "colab": {
          "base_uri": "https://localhost:8080/"
        },
        "id": "1_MyWCAVzpsd",
        "outputId": "ab454eb5-de08-49ad-a42e-d265b2ef81e8"
      },
      "execution_count": null,
      "outputs": [
        {
          "output_type": "stream",
          "name": "stdout",
          "text": [
            "https://storage.googleapis.com/decision-science-lab-bucket/liplips/roma_silvers_products/rs2502/2581_seed_117879368_guidence_image_07_21_2024_10_34_07.png\n"
          ]
        }
      ]
    },
    {
      "cell_type": "code",
      "source": [
        "def create_liplips_image_from_url(url: str, id: str, download_folder: str='/content') -> LiplipsImage:\n",
        "    # Create the download folder if it doesn't exist\n",
        "    os.makedirs(download_folder, exist_ok=True)\n",
        "\n",
        "    # Download the image\n",
        "    response = requests.get(url)\n",
        "\n",
        "    if response.status_code == 200:\n",
        "        # Determine the local path\n",
        "        local_filename = os.path.join(download_folder, f\"{id}.jpg\")\n",
        "\n",
        "        # Save the image locally\n",
        "        with open(local_filename, 'wb') as f:\n",
        "            f.write(response.content)\n",
        "\n",
        "        # Create LiplipsImage object\n",
        "        liplips_image = LiplipsImage(\n",
        "            url=url,\n",
        "            id=id,\n",
        "            content=response.content,\n",
        "            local_path=local_filename,\n",
        "            gcp_path=url\n",
        "        )\n",
        "\n",
        "        return liplips_image\n",
        "    else:\n",
        "        raise Exception(f\"Failed to download image from {url}, status code: {response.status_code}\")\n",
        "\n",
        "# Example usage\n",
        "# url = 'https://storage.googleapis.com/decision-science-lab-bucket/liplips/roma_silvers_products/rs2502/2581.jpg'\n",
        "# id = '2581'\n",
        "# image = create_liplips_image_from_url(url, id)\n"
      ],
      "metadata": {
        "id": "kw9citpg1-tv"
      },
      "execution_count": null,
      "outputs": []
    },
    {
      "cell_type": "code",
      "source": [],
      "metadata": {
        "id": "1iMfp4aLdT_B",
        "colab": {
          "base_uri": "https://localhost:8080/",
          "height": 35
        },
        "outputId": "3358baea-dcb9-44b6-e233-7c89a5de9233"
      },
      "execution_count": null,
      "outputs": [
        {
          "output_type": "execute_result",
          "data": {
            "text/plain": [
              "'07_27_2024_12_02_13'"
            ],
            "application/vnd.google.colaboratory.intrinsic+json": {
              "type": "string"
            }
          },
          "metadata": {},
          "execution_count": 3
        }
      ]
    },
    {
      "cell_type": "code",
      "source": [
        "# \"A necklace is nicely placed on a pristine white wood table. The table is adorned with a single dried flower, adding a touch of rustic charm. Soft natural light filters through a nearby window, casting a gentle shadow of the pants onto the table surface, creating a serene and minimalist composition\",\n",
        "# prompt = \"A delicate necklace with an elegant pendant, placed gracefully on a rustic white wood table. The necklace should have a subtle shine, reflecting the natural light softly. Beside the necklace, include a single, artistically positioned dry flower, such as a lavender sprig or a small dried rose, adding a touch of vintage charm. The background should be minimalist, with the focus clearly on the necklace and the flower. Ensure the overall composition exudes a sense of elegance and simplicity, with the textures of the wood, the metallic shine of the necklace, and the delicate nature of the dry flower all harmoniously balanced.\"\n",
        "# prompt = \"Place the delicate necklace with its elegant pendant and pearl accents on a rustic white wood table. Ensure the table's texture is visible to add a touch of natural charm. Position a single dry flower, such as a lavender sprig or a small dried rose, next to the necklace, creating a simple yet sophisticated composition. Use soft, natural lighting that casts gentle shadows and highlights the intricate details of the necklace and the flower. The overall scene should have a calm, minimalist aesthetic, with a clean background that keeps the focus on the necklace. The colors should be muted, with the warm tones of the gold and the soft hues of the pearls standing out subtly against the white wood. The dry flower should add a hint of vintage elegance without overpowering the main subject.\"\n",
        "# prompt = \"A delicate necklace with gold and pearl accents on a white wood table. The table features a single dry flower beside the necklace, adding a touch of elegance. Soft natural lighting streams from the left, casting gentle shadows and highlighting the intricate details of the necklace. The background is a clean, minimalist white with a hint of texture to enhance the sophistication of the photo. The entire scene is framed in a way that emphasizes the necklace's beauty and craftsmanship, creating a professional yet cute atmosphere.\""
      ],
      "metadata": {
        "id": "EA98WtxasLj6"
      },
      "execution_count": null,
      "outputs": []
    },
    {
      "cell_type": "code",
      "source": [
        "# # example image generation\n",
        "# gcp_path = 'https://storage.googleapis.com/decision-science-lab-bucket/liplips/roma_silvers_products/rs1236/929.jpg'\n",
        "# sub_folder_path = 'liplips/shopify_liplips_images_ai/test'\n",
        "# remove_watermark = False\n",
        "# # prompt = 'a person posing for a picture on a lawn, with a flower garden in the background'\n",
        "# prompt = 'the image displays a jewellery piece with succulents in the background. The image features a minimalistic and professional looking background. '\n",
        "# seeds = [117879368, 55994449, 48672244, 65080068]\n",
        "# for seed in seeds:\n",
        "#     image = create_ai_image('test', gcp_path, prompt, seed, sub_folder_path, False, \"never\")"
      ],
      "metadata": {
        "id": "wXCUX1qzVcQ7",
        "colab": {
          "base_uri": "https://localhost:8080/"
        },
        "outputId": "605f3aba-5a0e-43f9-e352-08c813a7a444"
      },
      "execution_count": 9,
      "outputs": [
        {
          "output_type": "stream",
          "name": "stdout",
          "text": [
            "https://storage.googleapis.com/decision-science-lab-bucket/liplips/shopify_liplips_images_ai/test/test_seed_117879368_the-image-displays-a-jewellery-piece-with-succulen_08_29_2024_12_01_20.png\n",
            "https://storage.googleapis.com/decision-science-lab-bucket/liplips/shopify_liplips_images_ai/test/test_seed_55994449_the-image-displays-a-jewellery-piece-with-succulen_08_29_2024_12_01_29.png\n",
            "https://storage.googleapis.com/decision-science-lab-bucket/liplips/shopify_liplips_images_ai/test/test_seed_48672244_the-image-displays-a-jewellery-piece-with-succulen_08_29_2024_12_01_34.png\n",
            "https://storage.googleapis.com/decision-science-lab-bucket/liplips/shopify_liplips_images_ai/test/test_seed_65080068_the-image-displays-a-jewellery-piece-with-succulen_08_29_2024_12_01_38.png\n"
          ]
        }
      ]
    },
    {
      "cell_type": "code",
      "source": [
        "# for seed in seeds:\n",
        "#     image = create_ai_image('test', gcp_path, prompt, seed, sub_folder_path, False, \"auto\")"
      ],
      "metadata": {
        "id": "UVpFFJ92XLK-",
        "colab": {
          "base_uri": "https://localhost:8080/"
        },
        "outputId": "2ea5b863-d52c-40c2-f149-b9c45a34af3f"
      },
      "execution_count": 10,
      "outputs": [
        {
          "output_type": "stream",
          "name": "stdout",
          "text": [
            "https://storage.googleapis.com/decision-science-lab-bucket/liplips/shopify_liplips_images_ai/test/test_seed_117879368_the-image-displays-a-jewellery-piece-with-succulen_08_29_2024_12_02_04.png\n",
            "https://storage.googleapis.com/decision-science-lab-bucket/liplips/shopify_liplips_images_ai/test/test_seed_55994449_the-image-displays-a-jewellery-piece-with-succulen_08_29_2024_12_02_08.png\n",
            "https://storage.googleapis.com/decision-science-lab-bucket/liplips/shopify_liplips_images_ai/test/test_seed_48672244_the-image-displays-a-jewellery-piece-with-succulen_08_29_2024_12_02_15.png\n",
            "https://storage.googleapis.com/decision-science-lab-bucket/liplips/shopify_liplips_images_ai/test/test_seed_65080068_the-image-displays-a-jewellery-piece-with-succulen_08_29_2024_12_02_21.png\n"
          ]
        }
      ]
    }
  ]
}