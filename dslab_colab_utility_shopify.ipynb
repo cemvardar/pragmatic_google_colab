{
  "nbformat": 4,
  "nbformat_minor": 0,
  "metadata": {
    "colab": {
      "provenance": [],
      "authorship_tag": "ABX9TyOkvJPuebpwOyzbPZCs7Bma",
      "include_colab_link": true
    },
    "kernelspec": {
      "name": "python3",
      "display_name": "Python 3"
    },
    "language_info": {
      "name": "python"
    }
  },
  "cells": [
    {
      "cell_type": "markdown",
      "metadata": {
        "id": "view-in-github",
        "colab_type": "text"
      },
      "source": [
        "<a href=\"https://colab.research.google.com/github/cemvardar/pragmatic_google_colab/blob/main/dslab_colab_utility_shopify.ipynb\" target=\"_parent\"><img src=\"https://colab.research.google.com/assets/colab-badge.svg\" alt=\"Open In Colab\"/></a>"
      ]
    },
    {
      "cell_type": "code",
      "source": [
        "from google.colab import userdata\n",
        "import requests"
      ],
      "metadata": {
        "id": "QnxJ8qaqns7P"
      },
      "execution_count": 2,
      "outputs": []
    },
    {
      "cell_type": "code",
      "execution_count": 3,
      "metadata": {
        "colab": {
          "base_uri": "https://localhost:8080/"
        },
        "id": "Dfkm-SZ4nLGc",
        "outputId": "695e1007-88e3-4025-a9d9-241e3fcc0bd0"
      },
      "outputs": [
        {
          "output_type": "stream",
          "name": "stdout",
          "text": [
            "154 products\n",
            "87 collections\n"
          ]
        }
      ],
      "source": [
        "class Product:\n",
        "    def __init__(self, shopify_data):\n",
        "        self.shopify_data = shopify_data\n",
        "        self.title = self.shopify_data['title']\n",
        "        self.product_type = self.shopify_data['product_type']\n",
        "        self.body_html = self.shopify_data['body_html']\n",
        "        self.tags = self.shopify_data['tags']\n",
        "        self.id = self.shopify_data['id']\n",
        "        self.handle = f\"https://www.liplips.co.uk/products/{self.shopify_data['handle']}\"\n",
        "        self.status = self.shopify_data['status']\n",
        "        self.is_active = self.status=='active'\n",
        "\n",
        "\n",
        "class Collection():\n",
        "    def __init__(self, shopify_data):\n",
        "        self.shopify_data = shopify_data\n",
        "        self.title = self.shopify_data['title']\n",
        "        self.body_html = self.shopify_data['body_html']\n",
        "        self.id = self.shopify_data['id']\n",
        "        # self.collects = get_shopify_data('collects', ('collection_id', self.id))['collects']\n",
        "        self.collects = None\n",
        "        self.handle = f\"https://www.liplips.co.uk/collections/{self.shopify_data['handle']}\"\n",
        "        self.admin_handle = f\"https://admin.shopify.com/store/liplipsstore/collections/{self.id}\"\n",
        "\n",
        "    def products_list(self):\n",
        "        products_list = []\n",
        "        if self.collects == None:\n",
        "            self.collects = get_shopify_data('collects', ('collection_id', self.id))['collects']\n",
        "        for collect in self.collects:\n",
        "            products_list.append(products_dict[collect['product_id']])\n",
        "        return products_list\n",
        "\n",
        "    def get_product_image_url(self, product_index):\n",
        "        products = self.products_list()\n",
        "        return products[product_index].shopify_data['images'][0]['src']\n",
        "\n",
        "    def get_video_file_name(self):\n",
        "        return f\"{self.title.replace(' ', '_')}.mp4\"\n",
        "\n",
        "\n",
        "def get_api_url(element, query_tuple=None):\n",
        "    url_template = f'https://liplipsstore.myshopify.com/admin/api/2024-04/{element}.json'\n",
        "    if query_tuple is not None:\n",
        "        query_suffix = f'?{query_tuple[0]}={query_tuple[1]}'\n",
        "        return url_template+query_suffix\n",
        "    return url_template\n",
        "\n",
        "def get_shopify_data(element, query_tuple=None):\n",
        "    access_token = userdata.get('liplips_shopify_token')\n",
        "    shop_url = 'your_shop_name.myshopify.com'\n",
        "\n",
        "    # Set up the headers with the necessary authentication\n",
        "    headers = {\n",
        "        \"Content-Type\": \"application/json\",\n",
        "        \"X-Shopify-Access-Token\": access_token\n",
        "    }\n",
        "    params = {'limit': 250}\n",
        "    # Define the endpoint for fetching products\n",
        "    url = get_api_url(element, query_tuple)\n",
        "\n",
        "    # Make the HTTP GET request to the Shopify API\n",
        "    response = requests.get(url, headers=headers, params=params)\n",
        "\n",
        "    # Check if the request was successful\n",
        "    if response.status_code == 200:\n",
        "        # Load the JSON data from the response\n",
        "        products = response.json()\n",
        "\n",
        "    else:\n",
        "        print(f\"Failed to retrieve products: {response.status_code}\")\n",
        "    return products\n",
        "\n",
        "def get_collection_dict():\n",
        "    element = 'custom_collections'\n",
        "    collections = get_shopify_data(element)[element]\n",
        "    print(f'{len(collections)} collections')\n",
        "    collection_dict = {}\n",
        "    for collection_data in collections:\n",
        "        collection = Collection(collection_data)\n",
        "        collection_dict[collection.id] = collection\n",
        "\n",
        "    return collection_dict\n",
        "\n",
        "\n",
        "def get_product_dict():\n",
        "    element = 'products'\n",
        "    products = get_shopify_data(element)[element]\n",
        "\n",
        "    print(f'{len(products)} products')\n",
        "\n",
        "    products_dict = {}\n",
        "    for product_data in products:\n",
        "        product = Product(product_data)\n",
        "        products_dict[product.id] = product\n",
        "\n",
        "    return products_dict\n",
        "\n",
        "products_dict = get_product_dict()\n",
        "collection_dict = get_collection_dict()"
      ]
    },
    {
      "cell_type": "code",
      "source": [
        "def add_product_to_shopify(product_data):\n",
        "    # Headers for authentication and content type\n",
        "    headers = {\n",
        "        \"Content-Type\": \"application/json\",\n",
        "        \"X-Shopify-Access-Token\": userdata.get('liplips_shopify_token')\n",
        "    }\n",
        "\n",
        "    # Data to be updated\n",
        "    data = {\n",
        "        \"product\": product_data\n",
        "    }\n",
        "\n",
        "    # API endpoint to update the product\n",
        "    url = f'https://liplipsstore.myshopify.com/admin/api/2023-01/products.json'\n",
        "\n",
        "    # Make the PUT request to update the product description\n",
        "    response = requests.post(url, headers=headers, json=data)\n",
        "\n",
        "    # Check the response\n",
        "    if response.status_code == 201:\n",
        "        print(\"Product description updated successfully.\")\n",
        "        updated_product = response.json()\n",
        "        print(f'''https://admin.shopify.com/store/liplipsstore/products/{updated_product['product']['id']}''')\n",
        "    else:\n",
        "        print(f\"Failed to update product: {response.status_code} - {response.text}\")\n",
        "    return updated_product\n",
        "\n",
        "# product_data = {\n",
        "#             \"title\": \"aaaa test\",\n",
        "#             \"vendor\": \"Liplips\",\n",
        "#             \"body_html\": 'testing',\n",
        "#             \"product_type\": \"Necklaces\",\n",
        "#             'status': 'draft',\n",
        "#             \"variants\": [\n",
        "#                 {\n",
        "#                     \"option1\": \"Default Title\",\n",
        "#                     \"price\": 10,\n",
        "#                     \"sku\": 'rs_test',\n",
        "#                     \"inventory_management\": \"shopify\",\n",
        "#                     \"inventory_quantity\": 5\n",
        "#                 }\n",
        "#                 ],\n",
        "#             'images': []\n",
        "#             }\n",
        "\n",
        "# updated_product = add_product_to_shopify(product_data)\n"
      ],
      "metadata": {
        "colab": {
          "base_uri": "https://localhost:8080/"
        },
        "id": "3AkdUD7dnmxv",
        "outputId": "5dbd7421-8b75-4e66-b7cd-6242af4f8bf5"
      },
      "execution_count": 4,
      "outputs": [
        {
          "output_type": "stream",
          "name": "stdout",
          "text": [
            "Product description updated successfully.\n",
            "https://admin.shopify.com/store/liplipsstore/products/7409814143018\n"
          ]
        }
      ]
    },
    {
      "cell_type": "code",
      "source": [],
      "metadata": {
        "id": "pVrwp6oWo7Jl"
      },
      "execution_count": null,
      "outputs": []
    }
  ]
}