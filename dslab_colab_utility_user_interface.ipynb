{
  "nbformat": 4,
  "nbformat_minor": 0,
  "metadata": {
    "colab": {
      "provenance": [],
      "authorship_tag": "ABX9TyNFCwA0M/6GuTAEHLpnmizu",
      "include_colab_link": true
    },
    "kernelspec": {
      "name": "python3",
      "display_name": "Python 3"
    },
    "language_info": {
      "name": "python"
    }
  },
  "cells": [
    {
      "cell_type": "markdown",
      "metadata": {
        "id": "view-in-github",
        "colab_type": "text"
      },
      "source": [
        "<a href=\"https://colab.research.google.com/github/cemvardar/pragmatic_google_colab/blob/main/dslab_colab_utility_user_interface.ipynb\" target=\"_parent\"><img src=\"https://colab.research.google.com/assets/colab-badge.svg\" alt=\"Open In Colab\"/></a>"
      ]
    },
    {
      "cell_type": "code",
      "source": [
        "%%capture\n",
        "import os\n",
        "file_path = 'dslab_colab_utility_image_generation.ipynb'\n",
        "if os.path.exists(file_path):\n",
        "    os.remove(file_path)\n",
        "\n",
        "\n",
        "!wget https://github.com/cemvardar/pragmatic_google_colab/raw/main/dslab_colab_utility_image_generation.ipynb\n",
        "%run dslab_colab_utility_image_generation.ipynb\n",
        "\n",
        "!pip install ipywidgets\n",
        "\n",
        "import ipywidgets as widgets\n",
        "from ipywidgets import Layout"
      ],
      "metadata": {
        "id": "zt1ala4HeBfO"
      },
      "execution_count": 1,
      "outputs": []
    },
    {
      "cell_type": "code",
      "execution_count": 2,
      "metadata": {
        "id": "Rn5BDo9hYPqQ"
      },
      "outputs": [],
      "source": [
        "def display_image_selection(images, s_images):\n",
        "    widgets_list = []\n",
        "    checkboxes = []\n",
        "\n",
        "    for image in images:\n",
        "        checkbox_image = widgets.Image(\n",
        "            value=image.content,\n",
        "            # format=format,\n",
        "            width=150\n",
        "        )\n",
        "        link = widgets.HTML(value=f'<a href=\"{image.url}\" target=\"_blank\">Link</a>')\n",
        "        checkbox = widgets.Checkbox(\n",
        "                description=image.id,\n",
        "                layout=Layout(width='auto', margin='0px 0px 0px 0px'),  # Adjust margin to push checkbox to the right\n",
        "                style={'description_width': 'initial'}  # Adjust description width\n",
        "            )\n",
        "        checkboxes.append(checkbox)\n",
        "        hbox = widgets.VBox([checkbox_image, link, checkbox])\n",
        "        widgets_list.append(hbox)\n",
        "\n",
        "    def update_selected_items(change):\n",
        "        image_id = change['owner'].description\n",
        "        if change['new']:\n",
        "            for image in images:\n",
        "                if image.id == image_id:\n",
        "                    s_images.append(image)\n",
        "                    break\n",
        "\n",
        "        else:\n",
        "            for image in s_images:\n",
        "                if image.id == image_id:\n",
        "                    s_images.remove(image)\n",
        "                    break\n",
        "\n",
        "        selected_items = [image.id for image in s_images]\n",
        "        print(\"Selected items:\", selected_items)\n",
        "\n",
        "    for checkbox in checkboxes:\n",
        "        checkbox.observe(update_selected_items, names='value')\n",
        "\n",
        "    hbox_2 = widgets.HBox(widgets_list)\n",
        "    display(hbox_2)\n"
      ]
    },
    {
      "cell_type": "code",
      "source": [
        "# url = 'https://storage.googleapis.com/decision-science-lab-bucket/liplips/roma_silvers_products/rs2502/2581.jpg'\n",
        "# id = '2581'\n",
        "# image = create_liplips_image_from_url(url, 'image_1')\n",
        "# image_2 = create_liplips_image_from_url(url, 'image_2')\n",
        "# selected_images = []\n",
        "# display_image_selection([image, image_2], selected_images)"
      ],
      "metadata": {
        "id": "hhaXQXMXeXpb"
      },
      "execution_count": 3,
      "outputs": []
    },
    {
      "cell_type": "code",
      "source": [
        "## @dataclass\n",
        "# class NewProductData:\n",
        "#     title: str\n",
        "#     sku: str\n",
        "#     product_info: str\n",
        "#     price: str=\"20.00\"\n",
        "#     title_and_description: dict=None\n",
        "#     bullet_points: list=None\n",
        "#     selected_images_for_shopify: list=None\n",
        "#     html_body: str=None\n",
        "\n",
        "#     def get_data_to_edit(self):\n",
        "#         data_to_edit_dict = {}\n",
        "#         data_to_edit_dict['title'] = {'field_name': 'title', 'value': self.title_and_description['title'], 'text_box_type':'single_line'}\n",
        "#         data_to_edit_dict['price'] = {'field_name': 'price', 'value': self.price, 'text_box_type':'single_line'}\n",
        "#         data_to_edit_dict['description'] = {'field_name': 'description', 'value': self.title_and_description['description'], 'text_box_type':'large_text_area'}\n",
        "#         data_to_edit_dict['bullet_points'] = {'field_name': 'bullet_points', 'value': '\\n'.join(self.bullet_points), 'text_box_type':'large_text_area'}\n",
        "\n",
        "#         return data_to_edit_dict\n",
        "\n",
        "#     def save_data_to_edit(self, data_to_edit_dict):\n",
        "#         self.title_and_description['title'] = data_to_edit_dict['title']['value']\n",
        "#         self.price = data_to_edit_dict['price']['value']\n",
        "#         self.title_and_description['description'] = data_to_edit_dict['description']['value']\n",
        "#         self.bullet_points = data_to_edit_dict['bullet_points']['value'].split('\\n')\n",
        "\n",
        "\n",
        "# npd = NewProductData('test', 'rs200', '')\n",
        "# npd.title_and_description = {'title': 'test_title', 'description': 'test_description'}\n",
        "# npd.bullet_points = ['test_bullet_point_1', 'test_bullet_point_2']\n",
        "\n",
        "# edit_new_product_data(npd)"
      ],
      "metadata": {
        "id": "iEklg-MpmjuY"
      },
      "execution_count": 4,
      "outputs": []
    },
    {
      "cell_type": "code",
      "source": [
        "def edit_data_with_text_fields(new_product_data):\n",
        "    data_to_edit = new_product_data.get_data_to_edit()\n",
        "    text_boxes = []\n",
        "    text_boxes_dict = {}\n",
        "    for field_name, field_data in data_to_edit.items():\n",
        "        if field_data['text_box_type'] == 'single_line':\n",
        "            text_box = widgets.Text(\n",
        "                value=field_data['value'],\n",
        "                description=field_name,\n",
        "                layout=widgets.Layout(width='50%')\n",
        "            )\n",
        "        else:\n",
        "            text_box = widgets.Textarea(\n",
        "                value=field_data['value'],\n",
        "                description=field_name,\n",
        "                layout=widgets.Layout(width='90%', height='100px')\n",
        "            )\n",
        "        text_boxes.append(text_box)\n",
        "        text_boxes_dict[field_name] = text_box\n",
        "\n",
        "    # Create a button\n",
        "    save_button = widgets.Button(\n",
        "        description='Save',\n",
        "        button_style='success'\n",
        "    )\n",
        "\n",
        "    # Define the button click event handler\n",
        "    def save_text(b):\n",
        "        for field_name, field_data in data_to_edit.items():\n",
        "            field_data['value'] = text_boxes_dict[field_name].value\n",
        "        new_product_data.save_data_to_edit(data_to_edit)\n",
        "\n",
        "\n",
        "    # Link the button click event to the handler\n",
        "    save_button.on_click(save_text)\n",
        "\n",
        "    # Display the text area and the button\n",
        "    display(*text_boxes, save_button)\n"
      ],
      "metadata": {
        "id": "mq9Aq_VDf9Fh"
      },
      "execution_count": 7,
      "outputs": []
    },
    {
      "cell_type": "code",
      "source": [
        "def display_text_selection(text_list, selected_items):\n",
        "    selected_checkbox_indexes = []\n",
        "    def update_selected_items(change):\n",
        "        selected_index = change['owner'].description\n",
        "        if change['new']:\n",
        "            selected_checkbox_indexes.append(selected_index)\n",
        "        else:\n",
        "            selected_checkbox_indexes.remove(selected_index)\n",
        "        selected_items.clear()\n",
        "        for i in selected_checkbox_indexes:\n",
        "            selected_items.append((i, text_area_list[int(i)].value))\n",
        "        # selected_items = [(i, text_area_list[int(i)].value) for i in selected_checkbox_indexes]\n",
        "        print(\"Selected items:\", [i for i in selected_items])\n",
        "        print(selected_items)\n",
        "\n",
        "    text_area_list = []\n",
        "    checkboxes = []\n",
        "    widgets_list = []\n",
        "    for index, text in enumerate(text_list):\n",
        "        checkbox = widgets.Checkbox(description=str(index), layout=widgets.Layout(width='125px'))\n",
        "        checkbox.observe(update_selected_items, names='value')\n",
        "        checkboxes.append(checkbox)\n",
        "\n",
        "        text_area = widgets.Textarea(\n",
        "                        value=text,\n",
        "                        description='',\n",
        "                        layout={'width': '80%', 'height': '70px'})\n",
        "        text_area_list.append(text_area)\n",
        "        hbox = widgets.HBox([checkbox, text_area], layout=widgets.Layout(justify_content='flex-start'))\n",
        "        widgets_list.append(hbox)\n",
        "    vbox = widgets.VBox([*widgets_list])\n",
        "    display(vbox)\n",
        "\n",
        "\n",
        "# text_list = ['text_1', 'text_2', 'text_3']\n",
        "# selected_items = []\n",
        "# display_text_selection(text_list, selected_items)"
      ],
      "metadata": {
        "id": "QtYgQ65dmUs9"
      },
      "execution_count": 6,
      "outputs": []
    }
  ]
}