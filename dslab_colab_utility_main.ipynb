{
  "nbformat": 4,
  "nbformat_minor": 0,
  "metadata": {
    "colab": {
      "provenance": [],
      "authorship_tag": "ABX9TyNzLmWIRX4m5spBNi89AleO",
      "include_colab_link": true
    },
    "kernelspec": {
      "name": "python3",
      "display_name": "Python 3"
    },
    "language_info": {
      "name": "python"
    }
  },
  "cells": [
    {
      "cell_type": "markdown",
      "metadata": {
        "id": "view-in-github",
        "colab_type": "text"
      },
      "source": [
        "<a href=\"https://colab.research.google.com/github/cemvardar/pragmatic_google_colab/blob/main/dslab_colab_utility_main.ipynb\" target=\"_parent\"><img src=\"https://colab.research.google.com/assets/colab-badge.svg\" alt=\"Open In Colab\"/></a>"
      ]
    },
    {
      "cell_type": "code",
      "execution_count": 1,
      "metadata": {
        "colab": {
          "base_uri": "https://localhost:8080/"
        },
        "id": "h6YobZHn4CyP",
        "outputId": "e320d093-a9ae-415d-b1a1-845b79cfef24"
      },
      "outputs": [
        {
          "output_type": "stream",
          "name": "stdout",
          "text": [
            "\u001b[2K     \u001b[90m━━━━━━━━━━━━━━━━━━━━━━━━━━━━━━━━━━━━━━━━\u001b[0m \u001b[32m1.2/1.2 MB\u001b[0m \u001b[31m4.6 MB/s\u001b[0m eta \u001b[36m0:00:00\u001b[0m\n",
            "\u001b[2K     \u001b[90m━━━━━━━━━━━━━━━━━━━━━━━━━━━━━━━━━━━━━━━━\u001b[0m \u001b[32m307.7/307.7 kB\u001b[0m \u001b[31m18.3 MB/s\u001b[0m eta \u001b[36m0:00:00\u001b[0m\n",
            "\u001b[?25h"
          ]
        }
      ],
      "source": [
        "!pip install -q pymongo\n",
        "import json\n",
        "import requests\n",
        "import pandas as pd\n",
        "import random\n",
        "import folium\n",
        "from pymongo import MongoClient\n",
        "import urllib.parse\n",
        "from datetime import datetime\n",
        "from google.oauth2 import service_account\n",
        "import mimetypes\n",
        "import os\n",
        "from google.cloud import storage\n",
        "from oauth2client.service_account import ServiceAccountCredentials\n",
        "import httplib2"
      ]
    },
    {
      "cell_type": "code",
      "source": [
        "def post_to_rest_api(payload, url):\n",
        "    headers = {'Content-type': 'application/json', 'Accept': 'application/json'}\n",
        "    r = requests.post(url,\n",
        "                      json.dumps(payload),\n",
        "                      headers=headers)\n",
        "    return r\n",
        "\n",
        "def get_df_from_sheet(key, sheet_name):\n",
        "    url = 'http://decisionsciencelab.com/api/v1.0/get_sheet_json'\n",
        "    payload = {'key':key,\n",
        "               'sheet_name':sheet_name}\n",
        "    r = post_to_rest_api(payload, url)\n",
        "    return pd.DataFrame(r.json())\n",
        "\n",
        "\n",
        "def get_mongodb_url():\n",
        "    userid = secrets['mongodb_user']\n",
        "    password = urllib.parse.quote_plus(secrets['mongodb_password'])\n",
        "    mongodb_uri = \"mongodb+srv://\" + userid + \":\" + password + \"@location-selection.vfmji.gcp.mongodb.net/location_selection?retryWrites=true&w=majority\"\n",
        "    return mongodb_uri\n",
        "\n",
        "\n",
        "def get_document_list_from_mongodb(db_name, collection_name):\n",
        "    client = MongoClient(get_mongodb_url(), retryWrites=False)\n",
        "    database = client[db_name]\n",
        "    list_records = [doc for doc in database[collection_name].find()]\n",
        "    return list_records\n",
        "\n",
        "\n",
        "def get_df_from_mongodb(db_name, collection_name):\n",
        "    list_records = get_document_list_from_mongodb(db_name, collection_name)\n",
        "    df = pd.DataFrame(list_records)\n",
        "    return df\n",
        "\n",
        "\n",
        "def get_collection(db_name, collection_name):\n",
        "    client = MongoClient(get_mongodb_url(), retryWrites=False)\n",
        "    database = client[db_name]\n",
        "    return database[collection_name]\n",
        "\n",
        "\n",
        "def insert(db_name, collection_name, json_doc):\n",
        "    collection = get_collection(db_name, collection_name)\n",
        "    collection.insert_one(json_doc)\n",
        "\n",
        "\n",
        "def upsert(db_name, collection_name, query, doc_to_upsert):\n",
        "    collection = get_collection(db_name, collection_name)\n",
        "    # collection.update(query, doc_to_upsert, upsert=True, safe=True)\n",
        "    collection.update_one(query, {'$set': doc_to_upsert}, upsert=True)\n",
        "\n",
        "\n",
        "def now():\n",
        "    return datetime.now()\n",
        "\n",
        "\n",
        "def get_gcp_bucket_credentials():\n",
        "    creds = {\n",
        "    \"type\": \"service_account\",\n",
        "    \"project_id\": \"cem-k8-test\",\n",
        "    \"private_key_id\": \"\",\n",
        "    \"private_key\": \"\",\n",
        "    \"client_email\": \"dslab-gcp-bucket@cem-k8-test.iam.gserviceaccount.com\",\n",
        "    \"client_id\": \"101834349465593903398\",\n",
        "    \"auth_uri\": \"https://accounts.google.com/o/oauth2/auth\",\n",
        "    \"token_uri\": \"https://oauth2.googleapis.com/token\",\n",
        "    \"auth_provider_x509_cert_url\": \"https://www.googleapis.com/oauth2/v1/certs\",\n",
        "    \"client_x509_cert_url\": \"https://www.googleapis.com/robot/v1/metadata/x509/dslab-gcp-bucket%40cem-k8-test.iam.gserviceaccount.com\"\n",
        "    }\n",
        "    creds[\"private_key_id\"]=secrets['gcp_private_key_id']\n",
        "    creds[\"private_key\"]=secrets['gcp_private_key'].replace('\\\\n', '\\n')\n",
        "    gcp_bucket_credentials = service_account.Credentials.from_service_account_info(creds)\n",
        "    return gcp_bucket_credentials\n",
        "\n",
        "\n",
        "def upload_file_to_gcp_generic_mime_type(file_name, sub_folder_path, delete_file_from_local = False):\n",
        "    bucket_name = 'decision-science-lab-bucket'\n",
        "    project_id = 'cem-k8-test'\n",
        "    client = storage.Client(project=project_id, credentials=get_gcp_bucket_credentials())\n",
        "\n",
        "    mime_type, _ = mimetypes.guess_type(file_name)\n",
        "    if mime_type is None:\n",
        "        mime_type = 'application/octet-stream'  # Default/fallback MIME type\n",
        "    upload_file_name = file_name.replace(' ', '_')\n",
        "    bucket = client.bucket(bucket_name)\n",
        "    blob = bucket.blob(f\"{sub_folder_path}/{upload_file_name}\")\n",
        "    blob.upload_from_filename(file_name, content_type=mime_type)\n",
        "\n",
        "    # Delete local file\n",
        "    if delete_file_from_local and os.path.exists(file_name):\n",
        "        os.remove(file_name)\n",
        "        print(f\"{file_name} successfully uploaded to GCP and deleted from local\")\n",
        "\n",
        "    uploaded_file_gcp_link = f'https://storage.googleapis.com/decision-science-lab-bucket/' \\\n",
        "                     f'{sub_folder_path}/{upload_file_name}'\n",
        "    print(uploaded_file_gcp_link)\n",
        "    return uploaded_file_gcp_link\n",
        "\n",
        "def get_secrets():\n",
        "    sheet_url = 'https://docs.google.com/spreadsheets/d/1mLwdiSnTi0KoB8Zg6kMclTXXm3f_JavMX-5lAUp-Ry0/edit#gid=0'\n",
        "    sheet_name = 'dev'\n",
        "    df_keys = read_df_from_sheet_gspread(sheet_url, worksheet_name=sheet_name)\n",
        "    key_dict = dict(zip(df_keys['key'], df_keys['value']))\n",
        "    return key_dict\n",
        "\n",
        "\n",
        "secrets = get_secrets()"
      ],
      "metadata": {
        "id": "9gSvmGJK4PPb"
      },
      "execution_count": 3,
      "outputs": []
    },
    {
      "cell_type": "code",
      "source": [
        "from google.colab import auth\n",
        "auth.authenticate_user()\n",
        "\n",
        "import gspread\n",
        "from google.auth import default\n",
        "import pandas as pd\n",
        "\n",
        "def read_df_from_sheet_gspread(sheet_url, worksheet_name=None):\n",
        "    creds, _ = default()\n",
        "    gc = gspread.authorize(creds)\n",
        "\n",
        "    # Extract the sheet ID from the URL\n",
        "    sheet_id = sheet_url.split('/d/')[1].split('/')[0]\n",
        "\n",
        "    sheet = gc.open_by_key(sheet_id)\n",
        "    if worksheet_name:\n",
        "        worksheet = sheet.worksheet(worksheet_name)\n",
        "        values = worksheet.get_all_values()\n",
        "        df = pd.DataFrame(values[1:], columns=values[0])  # This assumes the first row is the header\n",
        "        return df\n",
        "\n",
        "    if worksheet_name is None and len(sheet.worksheets())==1:\n",
        "        worksheet = sheet.worksheets()[0]\n",
        "        values = worksheet.get_all_values()\n",
        "        df = pd.DataFrame(values[1:], columns=values[0])  # This assumes the first row is the header\n",
        "        return df\n",
        "\n",
        "    df_dict = {}\n",
        "    for worksheet in sheet.worksheets():\n",
        "    # Use the first sheet by default, or specify the name of the sheet you want to access\n",
        "\n",
        "        # Get all values from the sheet\n",
        "        values = worksheet.get_all_values()\n",
        "\n",
        "        # Convert to a pandas DataFrame\n",
        "        df = pd.DataFrame(values[1:], columns=values[0])  # This assumes the first row is the header\n",
        "        df_dict[worksheet.title] = df\n",
        "    return df_dict"
      ],
      "metadata": {
        "id": "HmubhYeW5ThV"
      },
      "execution_count": 4,
      "outputs": []
    },
    {
      "cell_type": "code",
      "source": [
        "def get_file_name_for_export_with_date_time(file_name_header, file_extenstion):\n",
        "    formatted_datetime = now().strftime(\"%m_%d_%Y_%H_%M_%S\")\n",
        "    file_name = f\"{file_name_header}_{formatted_datetime}.{file_extenstion}\"\n",
        "    file_name = file_name.replace(' ', '_')\n",
        "    return file_name"
      ],
      "metadata": {
        "id": "RMMnAdMy8Rfh"
      },
      "execution_count": 1,
      "outputs": []
    },
    {
      "cell_type": "code",
      "source": [],
      "metadata": {
        "id": "C5zFM_6z8uSo"
      },
      "execution_count": null,
      "outputs": []
    }
  ]
}