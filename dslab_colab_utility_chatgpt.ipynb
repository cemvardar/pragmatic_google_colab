{
  "nbformat": 4,
  "nbformat_minor": 0,
  "metadata": {
    "colab": {
      "provenance": [],
      "authorship_tag": "ABX9TyMIq5kR0mx5JjNiHf3r4WcE",
      "include_colab_link": true
    },
    "kernelspec": {
      "name": "python3",
      "display_name": "Python 3"
    },
    "language_info": {
      "name": "python"
    }
  },
  "cells": [
    {
      "cell_type": "markdown",
      "metadata": {
        "id": "view-in-github",
        "colab_type": "text"
      },
      "source": [
        "<a href=\"https://colab.research.google.com/github/cemvardar/pragmatic_google_colab/blob/main/dslab_colab_utility_chatgpt.ipynb\" target=\"_parent\"><img src=\"https://colab.research.google.com/assets/colab-badge.svg\" alt=\"Open In Colab\"/></a>"
      ]
    },
    {
      "cell_type": "code",
      "source": [
        "!pip install OpenAI\n",
        "import openai\n",
        "from google.colab import userdata\n",
        "from time import sleep\n",
        "import json\n",
        "import time\n",
        "from datetime import datetime\n",
        "import concurrent.futures"
      ],
      "metadata": {
        "colab": {
          "base_uri": "https://localhost:8080/"
        },
        "id": "EJbav48Yzpxl",
        "outputId": "158a203d-743e-4b6f-8817-7af17ce48422"
      },
      "execution_count": null,
      "outputs": [
        {
          "output_type": "stream",
          "name": "stdout",
          "text": [
            "Requirement already satisfied: OpenAI in /usr/local/lib/python3.10/dist-packages (1.42.0)\n",
            "Requirement already satisfied: anyio<5,>=3.5.0 in /usr/local/lib/python3.10/dist-packages (from OpenAI) (3.7.1)\n",
            "Requirement already satisfied: distro<2,>=1.7.0 in /usr/lib/python3/dist-packages (from OpenAI) (1.7.0)\n",
            "Requirement already satisfied: httpx<1,>=0.23.0 in /usr/local/lib/python3.10/dist-packages (from OpenAI) (0.27.0)\n",
            "Requirement already satisfied: jiter<1,>=0.4.0 in /usr/local/lib/python3.10/dist-packages (from OpenAI) (0.5.0)\n",
            "Requirement already satisfied: pydantic<3,>=1.9.0 in /usr/local/lib/python3.10/dist-packages (from OpenAI) (2.8.2)\n",
            "Requirement already satisfied: sniffio in /usr/local/lib/python3.10/dist-packages (from OpenAI) (1.3.1)\n",
            "Requirement already satisfied: tqdm>4 in /usr/local/lib/python3.10/dist-packages (from OpenAI) (4.66.5)\n",
            "Requirement already satisfied: typing-extensions<5,>=4.11 in /usr/local/lib/python3.10/dist-packages (from OpenAI) (4.12.2)\n",
            "Requirement already satisfied: idna>=2.8 in /usr/local/lib/python3.10/dist-packages (from anyio<5,>=3.5.0->OpenAI) (3.7)\n",
            "Requirement already satisfied: exceptiongroup in /usr/local/lib/python3.10/dist-packages (from anyio<5,>=3.5.0->OpenAI) (1.2.2)\n",
            "Requirement already satisfied: certifi in /usr/local/lib/python3.10/dist-packages (from httpx<1,>=0.23.0->OpenAI) (2024.7.4)\n",
            "Requirement already satisfied: httpcore==1.* in /usr/local/lib/python3.10/dist-packages (from httpx<1,>=0.23.0->OpenAI) (1.0.5)\n",
            "Requirement already satisfied: h11<0.15,>=0.13 in /usr/local/lib/python3.10/dist-packages (from httpcore==1.*->httpx<1,>=0.23.0->OpenAI) (0.14.0)\n",
            "Requirement already satisfied: annotated-types>=0.4.0 in /usr/local/lib/python3.10/dist-packages (from pydantic<3,>=1.9.0->OpenAI) (0.7.0)\n",
            "Requirement already satisfied: pydantic-core==2.20.1 in /usr/local/lib/python3.10/dist-packages (from pydantic<3,>=1.9.0->OpenAI) (2.20.1)\n"
          ]
        }
      ]
    },
    {
      "cell_type": "code",
      "execution_count": null,
      "metadata": {
        "id": "6azkF50Dzchk"
      },
      "outputs": [],
      "source": [
        "def check_run(client, thread_id, run_id):\n",
        "    while True:\n",
        "        # Refresh the run object to get the latest status\n",
        "        run = client.beta.threads.runs.retrieve(\n",
        "            thread_id=thread_id,\n",
        "            run_id=run_id\n",
        "        )\n",
        "\n",
        "        if run.status == \"completed\":\n",
        "            # print(f\"Run is completed.\")\n",
        "            break\n",
        "        elif run.status == \"expired\":\n",
        "            print(f\"Run is expired.\")\n",
        "            break\n",
        "        elif run.status == \"failed\":\n",
        "            print(f\"Run is failed.\")\n",
        "            break\n",
        "        else:\n",
        "            # print(f\"OpenAI: Run is not yet completed. Waiting...{run.status}\")\n",
        "            time.sleep(1)  # Wait for 1 second before checking again\n",
        "\n",
        "def get_file_name_for_export_with_date_time(file_name_header, file_extenstion):\n",
        "    formatted_datetime = datetime.now().strftime(\"%m_%d_%Y_%H_%M_%S\")\n",
        "    file_name = f\"{file_name_header}_{formatted_datetime}.{file_extenstion}\"\n",
        "    file_name = file_name.replace(' ', '_')\n",
        "    return file_name\n",
        "\n",
        "\n",
        "def last_chatgpt_reponse(messages):\n",
        "    return messages.data[0].content[0].text.value\n",
        "\n",
        "class ChatGpt_Assitant():\n",
        "    def __init__(self, name, instructions, tools, model):\n",
        "        self.client = openai.Client(api_key=userdata.get('openai_api_key'))\n",
        "        self.assistant = self.client.beta.assistants.create(\n",
        "            name=name,\n",
        "            instructions=instructions,\n",
        "            tools=tools,\n",
        "            model=model\n",
        "        )\n",
        "        self.thread = self.client.beta.threads.create()\n",
        "        self.messages = None\n",
        "\n",
        "    def add_user_input(self, user_input, print_repsonse=True):\n",
        "        message = self.client.beta.threads.messages.create(thread_id=self.thread.id,\n",
        "                                                    role=\"user\",\n",
        "                                                    content=user_input\n",
        "        )\n",
        "\n",
        "        run = self.client.beta.threads.runs.create(\n",
        "            thread_id=self.thread.id,\n",
        "            assistant_id=self.assistant.id,\n",
        "        )\n",
        "\n",
        "        check_run(self.client, self.thread.id, run.id)\n",
        "\n",
        "        self.messages = self.client.beta.threads.messages.list(\n",
        "            thread_id=self.thread.id\n",
        "        )\n",
        "\n",
        "\n",
        "        assistant_message = self.messages.data[0].content[0].text.value\n",
        "        if print_repsonse:\n",
        "            print(len(self.messages.data))\n",
        "            print(assistant_message)\n",
        "\n",
        "        return last_chatgpt_reponse(self.messages)\n",
        "\n",
        "\n",
        "def get_chatgpt_shopify_helper():\n",
        "    name = \"Shopify helper\"\n",
        "    instructions=\"\"\"You are a shopify site content generator for products and product collections.\n",
        "                    You generate  product titles and descriptions using the details provived by the users.\n",
        "                    you follow instructions and feedback from the users to generate the best titles and descriptions\n",
        "                    for maximizing product sales.\n",
        "                    \"\"\"\n",
        "    tools=[{\"type\": \"code_interpreter\"}]\n",
        "    model=\"gpt-4o\"\n",
        "    return ChatGpt_Assitant(name, instructions, tools, model)\n",
        "\n",
        "\n",
        "def parse_json_from_gpt_response(message):\n",
        "    start_index = message.find('```json') + 8\n",
        "    end_index = message.rfind(\"```\")\n",
        "    json_content = json.loads(message[start_index:end_index].replace('\\n\\n', ''))\n",
        "    return json_content\n"
      ]
    },
    {
      "cell_type": "code",
      "source": [
        "def get_json_response_from_chat_gpt(prompt):\n",
        "    gpt_assistant = get_chatgpt_shopify_helper()\n",
        "    message = gpt_assistant.add_user_input(prompt, False)\n",
        "    json_response = parse_json_from_gpt_response(message)\n",
        "    return json_response\n",
        "\n",
        "def get_image_description_json(image_url, prompt=None):\n",
        "    if prompt is None:\n",
        "        prompt = \"\"\"Describe what's in the photo. Respond with a JSON object. key will be image_description\"\"\"\n",
        "    message_content= [{ \"type\": \"text\",\n",
        "                         \"text\": prompt},\n",
        "                      {\"type\": \"image_url\",\n",
        "                       \"image_url\": {\"url\":image_url,\n",
        "                       \"detail\": \"high\"}}]\n",
        "    return get_json_response_from_chat_gpt(message_content)"
      ],
      "metadata": {
        "id": "4N_m3ZuUqgd_"
      },
      "execution_count": null,
      "outputs": []
    },
    {
      "cell_type": "code",
      "source": [
        "def get_json_response_for_prompt_parallel(prompt_key, prompt, max_retries=3):\n",
        "    for attempt in range(max_retries):\n",
        "        try:\n",
        "            return prompt_key, get_json_response_from_chat_gpt(prompt)\n",
        "        except Exception as e:\n",
        "            print(f\"Attempt {attempt+1} failed for {prompt_key}: {e}\")\n",
        "    return prompt_key, None  # Return None if all retries fail\n",
        "\n",
        "def get_json_response_for_image_parallel(prompt_key, image_url, prompt, max_retries=3):\n",
        "    for attempt in range(max_retries):\n",
        "        try:\n",
        "            return prompt_key, get_image_description_json(image_url, prompt)\n",
        "        except Exception as e:\n",
        "            print(f\"Attempt {attempt+1} failed for {prompt_key}: {e}\")\n",
        "    return prompt_key, None  # Return None if all retries fail\n",
        "\n",
        "def get_gpt_json_image_reponses_parallel(prompts_key_image_url_prompt, max_retries=3):\n",
        "    responses = {}\n",
        "    with concurrent.futures.ThreadPoolExecutor() as executor:\n",
        "        futures = [executor.submit(get_json_response_for_image_parallel, key, image_url, prompt, max_retries)\n",
        "                      for key, image_url, prompt in prompts_key_image_url_prompt]\n",
        "        for future in concurrent.futures.as_completed(futures):\n",
        "            key, result = future.result()\n",
        "            responses[key] = result\n",
        "\n",
        "    return responses\n",
        "\n",
        "def get_gpt_json_reponses_parallel(prompts, max_retries=3):\n",
        "    responses = {}\n",
        "    with concurrent.futures.ThreadPoolExecutor() as executor:\n",
        "        futures = [executor.submit(get_json_response_for_prompt_parallel, key, prompt, max_retries) for key, prompt in prompts]\n",
        "        for future in concurrent.futures.as_completed(futures):\n",
        "            key, result = future.result()\n",
        "            responses[key] = result\n",
        "\n",
        "    return responses\n"
      ],
      "metadata": {
        "id": "s5IvnaYmzzN2"
      },
      "execution_count": null,
      "outputs": []
    },
    {
      "cell_type": "code",
      "source": [
        "# image_url = \"https://storage.googleapis.com/decision-science-lab-bucket/liplips/roma_silvers_products/rs2502/2581.jpg\"\n",
        "# prompt = \"\"\"\n",
        "# we'll be creating a new photo of the jewelery in the photo changing the bacground using an AI system.\n",
        "# Expand the following prompt to include different details about shows and lighting and appearaence to generate\n",
        "# a minimalistic and professional and cute looking photo.\n",
        "# ```prompt\n",
        "# on a white wood table with 1 dry flower\n",
        "# ```\n",
        "# Respond with a JSON object. key will be image_prompt\n",
        "# \"\"\"\n",
        "# # get_json_response_for_image_parallel(0, image_url, prompt)\n",
        "# image_prompts = [(0, image_url, prompt), (1, image_url, prompt), (2, image_url, None)]\n",
        "# get_gpt_json_image_reponses_parallel(image_prompts)"
      ],
      "metadata": {
        "colab": {
          "base_uri": "https://localhost:8080/"
        },
        "id": "YVMSPMpRSKny",
        "outputId": "f05baf39-0cac-4db3-e885-408ef674e798"
      },
      "execution_count": null,
      "outputs": [
        {
          "output_type": "stream",
          "name": "stdout",
          "text": [
            "Run is completed.\n",
            "Run is completed.\n",
            "Run is completed.\n"
          ]
        },
        {
          "output_type": "execute_result",
          "data": {
            "text/plain": [
              "{0: {'image_prompt': \"A delicate gold and blue gemstone necklace with pearl accents displayed on a white wood table with a single dry flower. The lighting is natural and soft, creating subtle shadows that enhance the intricate details of the necklace. The background is minimalistic and professional, focusing the viewer's attention on the elegant craftsmanship of the jewelry. The dry flower adds a cute and charming touch to the composition, making it ideal for a high-end product showcase.\"},\n",
              " 1: {'image_prompt': 'A delicate jewelry necklace placed on a white wood table with a single dry flower beside it. The scene is set with soft natural lighting from a window at an angle, casting gentle shadows that enhance the texture of the pearls, gold, and blue beads without overpowering the composition. The minimalistic backdrop and the clean white wood surface, complemented by the dry flower, create a professional yet cute and elegant aesthetic.'},\n",
              " 2: {'image_description': 'The image shows a delicate necklace featuring a combination of small blue beads and white pearls. The necklace is adorned with alternating gold and white pearl pendants. The gold pendants have a tiny, intricate design resembling miniature charms, while the white pearl pendants are spherical in shape. There is also a prominent half-circle gold pendant with a textured design hanging from the center.'}}"
            ]
          },
          "metadata": {},
          "execution_count": 18
        }
      ]
    },
    {
      "cell_type": "code",
      "source": [
        "# prompt_title= \"\"\"\n",
        "# Find a shopify product title and description including details about stone properties and\n",
        "# possible styles for the following product. title and description will be in english.\n",
        "# İnanna Lapis Kolye - Gold\n",
        "# {'*Ürünlerimiz el yapımıdır.', '*İnci ve Lapis taşı kullanılmıştır.', '925 Gümüş/Silver', '*Ürünlerimiz 925 ayar gümüştür.', '*Sarı Altın kaplama yapılmıştır.', \"*Kolye zincir uzunluğu 41 cm'dir. 5 cm uzatma zinciri vardır.\"}\n",
        "# '\n",
        "# Respond with a JSON object. keys will be title and description.\n",
        "# don't use column in text\n",
        "# \"\"\"\n",
        "# prompts = [('a', prompt_title), ('b', prompt_title), ('c', prompt_title)]\n",
        "# get_gpt_json_reponses_parallel(prompts)"
      ],
      "metadata": {
        "colab": {
          "base_uri": "https://localhost:8080/"
        },
        "id": "qGSzitbO0Nwj",
        "outputId": "777627fa-88bf-4da1-e8c7-7c36b2a7a7c9"
      },
      "execution_count": null,
      "outputs": [
        {
          "output_type": "stream",
          "name": "stdout",
          "text": [
            "Run is completed.\n",
            "Run is completed.\n",
            "Run is completed.\n"
          ]
        },
        {
          "output_type": "execute_result",
          "data": {
            "text/plain": [
              "{'a': {'title': 'Inanna Lapis Necklace - Gold',\n",
              "  'description': 'Discover the elegance of the Inanna Lapis Necklace - Gold, a blend of handcrafted artistry and natural beauty. This exquisite necklace features authentic Lapis Lazuli and Pearls, known for their calming and balance-enhancing properties. Made from 925 sterling silver, the necklace is beautifully adorned with luxurious gold plating. The chain measures 41 cm long and includes a 5 cm extension chain for perfect adjustability. Every piece is handmade, ensuring that you receive a one-of-a-kind accessory that complements any style, be it casual or formal.'},\n",
              " 'c': {'title': 'Inanna Lapis Necklace - Gold',\n",
              "  'description': 'Handcrafted with care, our Inanna Lapis Necklace in Gold features a luxurious blend of pearl and lapis stone. Made from 925 sterling silver and plated with yellow gold, this necklace embodies timeless elegance and sophistication. The chain is 41 cm long with a 5 cm extension, offering versatility in styling. The lapis stone, known for its deep celestial blue, symbolizes wisdom and truth. Pair it with both casual and formal outfits for an effortlessly chic look. Elevate your jewelry collection with the unique charm of the Inanna Lapis Necklace.'},\n",
              " 'b': {'title': 'Inanna Lapis Necklace - Gold',\n",
              "  'description': 'Discover the elegance of the Inanna Lapis Necklace - Gold. Handcrafted with meticulous attention to detail, this piece features a stunning combination of freshwater pearls and regal lapis stones. Made from 925 sterling silver, this necklace is adorned with a luxurious gold plating for an added touch of sophistication. The chain length is 41 cm along with a 5 cm extension chain, making it versatile for various styles. Lapis stones are known for their deep blue hue and are believed to enhance wisdom and truth. This necklace is perfect for those who appreciate timeless beauty and spiritual significance.'}}"
            ]
          },
          "metadata": {},
          "execution_count": 17
        }
      ]
    },
    {
      "cell_type": "code",
      "source": [
        "# gpt_assistant = get_chatgpt_shopify_helper()\n",
        "# gpt_assistant.add_user_input('Respond with a JSON object. Content for an example product', False)\n",
        "# message"
      ],
      "metadata": {
        "colab": {
          "base_uri": "https://localhost:8080/"
        },
        "id": "D2lBjQsO5PQv",
        "outputId": "42d04356-593a-4a08-a47d-9a3430172126"
      },
      "execution_count": null,
      "outputs": [
        {
          "output_type": "stream",
          "name": "stdout",
          "text": [
            "OpenAI: Run is not yet completed. Waiting...queued\n",
            "Run is completed.\n"
          ]
        }
      ]
    },
    {
      "cell_type": "code",
      "source": [
        "# prompt_title= \"\"\"\n",
        "# Find a shopify product title and description including details about stone properties and\n",
        "# possible styles for the following product. title and description will be in english.\n",
        "# İnanna Lapis Kolye - Gold\n",
        "# {'*Ürünlerimiz el yapımıdır.', '*İnci ve Lapis taşı kullanılmıştır.', '925 Gümüş/Silver', '*Ürünlerimiz 925 ayar gümüştür.', '*Sarı Altın kaplama yapılmıştır.', \"*Kolye zincir uzunluğu 41 cm'dir. 5 cm uzatma zinciri vardır.\"}\n",
        "# '\n",
        "# Respond with a JSON object. keys will be title and description.\n",
        "# don't use column in text\n",
        "# \"\"\""
      ],
      "metadata": {
        "id": "eCkkb7UWKqh_"
      },
      "execution_count": null,
      "outputs": []
    },
    {
      "cell_type": "code",
      "source": [
        "# gpt_assistant = get_chatgpt_shopify_helper()\n",
        "# message = gpt_assistant.add_user_input(prompt_title, False)\n",
        "# print(message)\n",
        "# parse_json_from_gpt_response(message)"
      ],
      "metadata": {
        "colab": {
          "base_uri": "https://localhost:8080/"
        },
        "id": "i82t3HZ0KryT",
        "outputId": "6212953c-2bf2-433c-fdbd-65b4e4629c44"
      },
      "execution_count": null,
      "outputs": [
        {
          "output_type": "stream",
          "name": "stdout",
          "text": [
            "OpenAI: Run is not yet completed. Waiting...queued\n",
            "Run is completed.\n",
            "```json\n",
            "{\n",
            "  \"title\": \"Inanna Lapis Necklace - Gold\",\n",
            "  \"description\": \"Our products are handmade. Featuring pearl and lapis stones. Made with 925 sterling silver and coated with yellow gold. The chain length is 41 cm with an additional 5 cm extender. The lapis stone is known for its deep blue color and is believed to provide wisdom and truth. The pearls symbolize purity and elegance. This versatile necklace can be styled with both casual and formal outfits, adding a touch of sophistication and grace.\"\n",
            "}\n",
            "```\n"
          ]
        },
        {
          "output_type": "execute_result",
          "data": {
            "text/plain": [
              "{'title': 'Inanna Lapis Necklace - Gold',\n",
              " 'description': 'Our products are handmade. Featuring pearl and lapis stones. Made with 925 sterling silver and coated with yellow gold. The chain length is 41 cm with an additional 5 cm extender. The lapis stone is known for its deep blue color and is believed to provide wisdom and truth. The pearls symbolize purity and elegance. This versatile necklace can be styled with both casual and formal outfits, adding a touch of sophistication and grace.'}"
            ]
          },
          "metadata": {},
          "execution_count": 45
        }
      ]
    },
    {
      "cell_type": "code",
      "source": [
        "# bp_prompt = '''\n",
        "# give 6 bullet point items in english for the following product\n",
        "# İnanna Lapis Kolye - Gold\n",
        "# {'*Ürünlerimiz el yapımıdır.', '*İnci ve Lapis taşı kullanılmıştır.', '925 Gümüş/Silver', '*Ürünlerimiz 925 ayar gümüştür.', '*Sarı Altın kaplama yapılmıştır.', \"*Kolye zincir uzunluğu 41 cm'dir. 5 cm uzatma zinciri vardır.\"}\n",
        "# Respond with a JSON object. key will be items\n",
        "# don't use column in text\n",
        "# '''\n",
        "# message = gpt_assistant.add_user_input(bp_prompt, False)\n",
        "# print(message)\n",
        "# parse_json_from_gpt_response(message)"
      ],
      "metadata": {
        "colab": {
          "base_uri": "https://localhost:8080/"
        },
        "id": "VnUgkh4vNFZY",
        "outputId": "5249d456-badb-41de-ed41-56e5af588b43"
      },
      "execution_count": null,
      "outputs": [
        {
          "output_type": "stream",
          "name": "stdout",
          "text": [
            "OpenAI: Run is not yet completed. Waiting...queued\n",
            "Run is completed.\n",
            "```json\n",
            "{\n",
            "  \"items\": [\n",
            "    \"Handmade craftsmanship\",\n",
            "    \"Incorporates pearl and lapis stones\",\n",
            "    \"Constructed with 925 sterling silver\",\n",
            "    \"Yellow gold plating\",\n",
            "    \"Necklace chain length is 41 cm with 5 cm extender\",\n",
            "    \"Lapis stone symbolizes wisdom and truth; pearls symbolize purity and elegance\"\n",
            "  ]\n",
            "}\n",
            "```\n"
          ]
        },
        {
          "output_type": "execute_result",
          "data": {
            "text/plain": [
              "{'items': ['Handmade craftsmanship',\n",
              "  'Incorporates pearl and lapis stones',\n",
              "  'Constructed with 925 sterling silver',\n",
              "  'Yellow gold plating',\n",
              "  'Necklace chain length is 41 cm with 5 cm extender',\n",
              "  'Lapis stone symbolizes wisdom and truth; pearls symbolize purity and elegance']}"
            ]
          },
          "metadata": {},
          "execution_count": 54
        }
      ]
    },
    {
      "cell_type": "code",
      "source": [
        "# image_url = \"https://storage.googleapis.com/decision-science-lab-bucket/liplips/roma_silvers_products/rs2502/2581.jpg\"\n",
        "# get_image_description_json(image_url)"
      ],
      "metadata": {
        "colab": {
          "base_uri": "https://localhost:8080/"
        },
        "id": "tATZCw19s5ek",
        "outputId": "f3d98767-c378-409b-d57a-c777d33c68a0"
      },
      "execution_count": null,
      "outputs": [
        {
          "output_type": "stream",
          "name": "stdout",
          "text": [
            "OpenAI: Run is not yet completed. Waiting...in_progress\n",
            "Run is completed.\n"
          ]
        },
        {
          "output_type": "execute_result",
          "data": {
            "text/plain": [
              "{'image_description': 'The photo features a delicate necklace. The necklace is composed of small blue and white beads. Along the length of the necklace, there are various charms, including white pearl-like beads and small golden pendants shaped like the Eiffel Tower. Additionally, there is a prominent decorative element, a textured gold fan-shaped pendant, towards the bottom center of the necklace.'}"
            ]
          },
          "metadata": {},
          "execution_count": 20
        }
      ]
    },
    {
      "cell_type": "code",
      "source": [
        "# image_url = \"https://storage.googleapis.com/decision-science-lab-bucket/liplips/roma_silvers_products/rs2502/2581.jpg\"\n",
        "# prompt = \"\"\"\n",
        "# we'll be creating a new photo of the jewelery in the photo changing the bacground using an AI system.\n",
        "# Expand the following prompt to include different details about shows and lighting and appearaence to generate\n",
        "# a minimalistic and professional and cute looking photo.\n",
        "# ```prompt\n",
        "# on a white wood table with 1 dry flower\n",
        "# ```\n",
        "# Respond with a JSON object. key will be image_prompt\n",
        "# \"\"\"\n",
        "# get_image_description_json(image_url, prompt)"
      ],
      "metadata": {
        "colab": {
          "base_uri": "https://localhost:8080/"
        },
        "id": "DGKObiHjuDK0",
        "outputId": "e69fbd59-87d3-44c9-b0c2-5bae2826f971"
      },
      "execution_count": null,
      "outputs": [
        {
          "output_type": "stream",
          "name": "stdout",
          "text": [
            "OpenAI: Run is not yet completed. Waiting...in_progress\n",
            "Run is completed.\n"
          ]
        },
        {
          "output_type": "execute_result",
          "data": {
            "text/plain": [
              "{'image_prompt': \"A delicate gold and pearl necklace laid out elegantly on a white wood table with 1 dry flower beside it. The scene is bathed in soft natural light, creating gentle shadows and a warm, inviting atmosphere. The table's minimalistic texture contrasts beautifully with the intricate details of the necklace. The dry flower adds a touch of rustic charm, enhancing the overall minimalistic and professional aesthetic. The focus is sharp on the necklace, with a slight bokeh effect on the dry flower and background, making the jewelry stand out prominently while maintaining a cute and refined look.\"}"
            ]
          },
          "metadata": {},
          "execution_count": 6
        }
      ]
    },
    {
      "cell_type": "code",
      "source": [],
      "metadata": {
        "id": "zB_WNdUnvBS5"
      },
      "execution_count": null,
      "outputs": []
    }
  ]
}