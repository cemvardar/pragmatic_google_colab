{
  "nbformat": 4,
  "nbformat_minor": 0,
  "metadata": {
    "colab": {
      "provenance": [],
      "authorship_tag": "ABX9TyN3WHJUWgdym6pk7LXaPdt+",
      "include_colab_link": true
    },
    "kernelspec": {
      "name": "python3",
      "display_name": "Python 3"
    },
    "language_info": {
      "name": "python"
    }
  },
  "cells": [
    {
      "cell_type": "markdown",
      "metadata": {
        "id": "view-in-github",
        "colab_type": "text"
      },
      "source": [
        "<a href=\"https://colab.research.google.com/github/cemvardar/pragmatic_google_colab/blob/main/dslab_colab_utility_chatgpt_utility.ipynb\" target=\"_parent\"><img src=\"https://colab.research.google.com/assets/colab-badge.svg\" alt=\"Open In Colab\"/></a>"
      ]
    },
    {
      "cell_type": "code",
      "source": [
        "!pip install OpenAI\n",
        "import openai\n",
        "from google.colab import userdata\n",
        "from time import sleep\n",
        "import json\n",
        "import time\n",
        "from datetime import datetime"
      ],
      "metadata": {
        "colab": {
          "base_uri": "https://localhost:8080/"
        },
        "id": "EJbav48Yzpxl",
        "outputId": "aaa9e752-428a-4751-c080-432c9a8de949"
      },
      "execution_count": 1,
      "outputs": [
        {
          "output_type": "stream",
          "name": "stdout",
          "text": [
            "Collecting OpenAI\n",
            "  Downloading openai-1.36.0-py3-none-any.whl (328 kB)\n",
            "\u001b[2K     \u001b[90m━━━━━━━━━━━━━━━━━━━━━━━━━━━━━━━━━━━━━━━━\u001b[0m \u001b[32m328.7/328.7 kB\u001b[0m \u001b[31m2.3 MB/s\u001b[0m eta \u001b[36m0:00:00\u001b[0m\n",
            "\u001b[?25hRequirement already satisfied: anyio<5,>=3.5.0 in /usr/local/lib/python3.10/dist-packages (from OpenAI) (3.7.1)\n",
            "Requirement already satisfied: distro<2,>=1.7.0 in /usr/lib/python3/dist-packages (from OpenAI) (1.7.0)\n",
            "Collecting httpx<1,>=0.23.0 (from OpenAI)\n",
            "  Downloading httpx-0.27.0-py3-none-any.whl (75 kB)\n",
            "\u001b[2K     \u001b[90m━━━━━━━━━━━━━━━━━━━━━━━━━━━━━━━━━━━━━━━━\u001b[0m \u001b[32m75.6/75.6 kB\u001b[0m \u001b[31m3.5 MB/s\u001b[0m eta \u001b[36m0:00:00\u001b[0m\n",
            "\u001b[?25hRequirement already satisfied: pydantic<3,>=1.9.0 in /usr/local/lib/python3.10/dist-packages (from OpenAI) (2.8.2)\n",
            "Requirement already satisfied: sniffio in /usr/local/lib/python3.10/dist-packages (from OpenAI) (1.3.1)\n",
            "Requirement already satisfied: tqdm>4 in /usr/local/lib/python3.10/dist-packages (from OpenAI) (4.66.4)\n",
            "Requirement already satisfied: typing-extensions<5,>=4.7 in /usr/local/lib/python3.10/dist-packages (from OpenAI) (4.12.2)\n",
            "Requirement already satisfied: idna>=2.8 in /usr/local/lib/python3.10/dist-packages (from anyio<5,>=3.5.0->OpenAI) (3.7)\n",
            "Requirement already satisfied: exceptiongroup in /usr/local/lib/python3.10/dist-packages (from anyio<5,>=3.5.0->OpenAI) (1.2.2)\n",
            "Requirement already satisfied: certifi in /usr/local/lib/python3.10/dist-packages (from httpx<1,>=0.23.0->OpenAI) (2024.7.4)\n",
            "Collecting httpcore==1.* (from httpx<1,>=0.23.0->OpenAI)\n",
            "  Downloading httpcore-1.0.5-py3-none-any.whl (77 kB)\n",
            "\u001b[2K     \u001b[90m━━━━━━━━━━━━━━━━━━━━━━━━━━━━━━━━━━━━━━━━\u001b[0m \u001b[32m77.9/77.9 kB\u001b[0m \u001b[31m5.2 MB/s\u001b[0m eta \u001b[36m0:00:00\u001b[0m\n",
            "\u001b[?25hCollecting h11<0.15,>=0.13 (from httpcore==1.*->httpx<1,>=0.23.0->OpenAI)\n",
            "  Downloading h11-0.14.0-py3-none-any.whl (58 kB)\n",
            "\u001b[2K     \u001b[90m━━━━━━━━━━━━━━━━━━━━━━━━━━━━━━━━━━━━━━━━\u001b[0m \u001b[32m58.3/58.3 kB\u001b[0m \u001b[31m5.0 MB/s\u001b[0m eta \u001b[36m0:00:00\u001b[0m\n",
            "\u001b[?25hRequirement already satisfied: annotated-types>=0.4.0 in /usr/local/lib/python3.10/dist-packages (from pydantic<3,>=1.9.0->OpenAI) (0.7.0)\n",
            "Requirement already satisfied: pydantic-core==2.20.1 in /usr/local/lib/python3.10/dist-packages (from pydantic<3,>=1.9.0->OpenAI) (2.20.1)\n",
            "Installing collected packages: h11, httpcore, httpx, OpenAI\n",
            "Successfully installed OpenAI-1.36.0 h11-0.14.0 httpcore-1.0.5 httpx-0.27.0\n"
          ]
        }
      ]
    },
    {
      "cell_type": "code",
      "execution_count": 40,
      "metadata": {
        "id": "6azkF50Dzchk"
      },
      "outputs": [],
      "source": [
        "def check_run(client, thread_id, run_id):\n",
        "    while True:\n",
        "        # Refresh the run object to get the latest status\n",
        "        run = client.beta.threads.runs.retrieve(\n",
        "            thread_id=thread_id,\n",
        "            run_id=run_id\n",
        "        )\n",
        "\n",
        "        if run.status == \"completed\":\n",
        "            print(f\"Run is completed.\")\n",
        "            break\n",
        "        elif run.status == \"expired\":\n",
        "            print(f\"Run is expired.\")\n",
        "            break\n",
        "        else:\n",
        "            print(f\"OpenAI: Run is not yet completed. Waiting...{run.status}\")\n",
        "            time.sleep(10)  # Wait for 1 second before checking again\n",
        "\n",
        "def get_file_name_for_export_with_date_time(file_name_header, file_extenstion):\n",
        "    formatted_datetime = datetime.now().strftime(\"%m_%d_%Y_%H_%M_%S\")\n",
        "    file_name = f\"{file_name_header}_{formatted_datetime}.{file_extenstion}\"\n",
        "    file_name = file_name.replace(' ', '_')\n",
        "    return file_name\n",
        "\n",
        "\n",
        "def last_chatgpt_reponse(messages):\n",
        "    return messages.data[0].content[0].text.value\n",
        "\n",
        "class ChatGpt_Assitant():\n",
        "    def __init__(self, name, instructions, tools, model):\n",
        "        self.client = openai.Client(api_key=userdata.get('openai_api_key'))\n",
        "        self.assistant = self.client.beta.assistants.create(\n",
        "            name=name,\n",
        "            instructions=instructions,\n",
        "            tools=tools,\n",
        "            model=model\n",
        "        )\n",
        "        self.thread = self.client.beta.threads.create()\n",
        "        self.messages = None\n",
        "\n",
        "    def add_user_input(self, user_input, print_repsonse=True):\n",
        "        message = self.client.beta.threads.messages.create(thread_id=self.thread.id,\n",
        "                                                    role=\"user\",\n",
        "                                                    content=user_input\n",
        "        )\n",
        "\n",
        "        run = self.client.beta.threads.runs.create(\n",
        "            thread_id=self.thread.id,\n",
        "            assistant_id=self.assistant.id,\n",
        "        )\n",
        "\n",
        "        check_run(self.client, self.thread.id, run.id)\n",
        "\n",
        "        self.messages = self.client.beta.threads.messages.list(\n",
        "            thread_id=self.thread.id\n",
        "        )\n",
        "\n",
        "\n",
        "        assistant_message = self.messages.data[0].content[0].text.value\n",
        "        if print_repsonse:\n",
        "            print(len(self.messages.data))\n",
        "            print(assistant_message)\n",
        "\n",
        "        return last_chatgpt_reponse(self.messages)\n",
        "\n",
        "\n",
        "def get_chatgpt_shopify_helper():\n",
        "    name = \"Shopify helper\"\n",
        "    instructions=\"\"\"You are a shopify site content generator for products and product collections.\n",
        "                    You generate  product titles and descriptions using the details provived by the users.\n",
        "                    you follow instructions and feedback from the users to generate the best titles and descriptions\n",
        "                    for maximizing product sales.\n",
        "                    \"\"\"\n",
        "    tools=[{\"type\": \"code_interpreter\"}]\n",
        "    model=\"gpt-4o\"\n",
        "    return ChatGpt_Assitant(name, instructions, tools, model)\n",
        "\n",
        "\n",
        "def parse_json_from_gpt_response(message):\n",
        "    start_index = message.find('```json') + 8\n",
        "    end_index = message.rfind(\"```\")\n",
        "    json_content = json.loads(message[start_index:end_index].replace('\\n\\n', ''))\n",
        "    return json_content\n"
      ]
    },
    {
      "cell_type": "code",
      "source": [
        "# gpt_assistant = get_chatgpt_shopify_helper()\n",
        "# gpt_assistant.add_user_input('Respond with a JSON object. Content for an example product', False)\n",
        "# message"
      ],
      "metadata": {
        "colab": {
          "base_uri": "https://localhost:8080/"
        },
        "id": "D2lBjQsO5PQv",
        "outputId": "42d04356-593a-4a08-a47d-9a3430172126"
      },
      "execution_count": 14,
      "outputs": [
        {
          "output_type": "stream",
          "name": "stdout",
          "text": [
            "OpenAI: Run is not yet completed. Waiting...queued\n",
            "Run is completed.\n"
          ]
        }
      ]
    },
    {
      "cell_type": "code",
      "source": [
        "prompt_title= \"\"\"\n",
        "Find a shopify product title and description including details about stone properties and\n",
        "possible styles for the following product. title and description will be in english.\n",
        "İnanna Lapis Kolye - Gold\n",
        "{'*Ürünlerimiz el yapımıdır.', '*İnci ve Lapis taşı kullanılmıştır.', '925 Gümüş/Silver', '*Ürünlerimiz 925 ayar gümüştür.', '*Sarı Altın kaplama yapılmıştır.', \"*Kolye zincir uzunluğu 41 cm'dir. 5 cm uzatma zinciri vardır.\"}\n",
        "'\n",
        "Respond with a JSON object. keys will be title and description.\n",
        "don't use column in text\n",
        "\"\"\""
      ],
      "metadata": {
        "id": "eCkkb7UWKqh_"
      },
      "execution_count": 43,
      "outputs": []
    },
    {
      "cell_type": "code",
      "source": [
        "# gpt_assistant = get_chatgpt_shopify_helper()\n",
        "# message = gpt_assistant.add_user_input(prompt_title, False)\n",
        "# print(message)\n",
        "# parse_json_from_gpt_response(message)"
      ],
      "metadata": {
        "colab": {
          "base_uri": "https://localhost:8080/"
        },
        "id": "i82t3HZ0KryT",
        "outputId": "6212953c-2bf2-433c-fdbd-65b4e4629c44"
      },
      "execution_count": 45,
      "outputs": [
        {
          "output_type": "stream",
          "name": "stdout",
          "text": [
            "OpenAI: Run is not yet completed. Waiting...queued\n",
            "Run is completed.\n",
            "```json\n",
            "{\n",
            "  \"title\": \"Inanna Lapis Necklace - Gold\",\n",
            "  \"description\": \"Our products are handmade. Featuring pearl and lapis stones. Made with 925 sterling silver and coated with yellow gold. The chain length is 41 cm with an additional 5 cm extender. The lapis stone is known for its deep blue color and is believed to provide wisdom and truth. The pearls symbolize purity and elegance. This versatile necklace can be styled with both casual and formal outfits, adding a touch of sophistication and grace.\"\n",
            "}\n",
            "```\n"
          ]
        },
        {
          "output_type": "execute_result",
          "data": {
            "text/plain": [
              "{'title': 'Inanna Lapis Necklace - Gold',\n",
              " 'description': 'Our products are handmade. Featuring pearl and lapis stones. Made with 925 sterling silver and coated with yellow gold. The chain length is 41 cm with an additional 5 cm extender. The lapis stone is known for its deep blue color and is believed to provide wisdom and truth. The pearls symbolize purity and elegance. This versatile necklace can be styled with both casual and formal outfits, adding a touch of sophistication and grace.'}"
            ]
          },
          "metadata": {},
          "execution_count": 45
        }
      ]
    },
    {
      "cell_type": "code",
      "source": [
        "bp_prompt = '''\n",
        "give 6 bullet point items in english for the following product\n",
        "İnanna Lapis Kolye - Gold\n",
        "{'*Ürünlerimiz el yapımıdır.', '*İnci ve Lapis taşı kullanılmıştır.', '925 Gümüş/Silver', '*Ürünlerimiz 925 ayar gümüştür.', '*Sarı Altın kaplama yapılmıştır.', \"*Kolye zincir uzunluğu 41 cm'dir. 5 cm uzatma zinciri vardır.\"}\n",
        "Respond with a JSON object. key will be items\n",
        "don't use column in text\n",
        "'''\n",
        "# message = gpt_assistant.add_user_input(bp_prompt, False)\n",
        "# print(message)\n",
        "# parse_json_from_gpt_response(message)"
      ],
      "metadata": {
        "colab": {
          "base_uri": "https://localhost:8080/"
        },
        "id": "VnUgkh4vNFZY",
        "outputId": "5249d456-badb-41de-ed41-56e5af588b43"
      },
      "execution_count": 54,
      "outputs": [
        {
          "output_type": "stream",
          "name": "stdout",
          "text": [
            "OpenAI: Run is not yet completed. Waiting...queued\n",
            "Run is completed.\n",
            "```json\n",
            "{\n",
            "  \"items\": [\n",
            "    \"Handmade craftsmanship\",\n",
            "    \"Incorporates pearl and lapis stones\",\n",
            "    \"Constructed with 925 sterling silver\",\n",
            "    \"Yellow gold plating\",\n",
            "    \"Necklace chain length is 41 cm with 5 cm extender\",\n",
            "    \"Lapis stone symbolizes wisdom and truth; pearls symbolize purity and elegance\"\n",
            "  ]\n",
            "}\n",
            "```\n"
          ]
        },
        {
          "output_type": "execute_result",
          "data": {
            "text/plain": [
              "{'items': ['Handmade craftsmanship',\n",
              "  'Incorporates pearl and lapis stones',\n",
              "  'Constructed with 925 sterling silver',\n",
              "  'Yellow gold plating',\n",
              "  'Necklace chain length is 41 cm with 5 cm extender',\n",
              "  'Lapis stone symbolizes wisdom and truth; pearls symbolize purity and elegance']}"
            ]
          },
          "metadata": {},
          "execution_count": 54
        }
      ]
    },
    {
      "cell_type": "code",
      "source": [
        "# message"
      ],
      "metadata": {
        "id": "jtVrtSidOW59"
      },
      "execution_count": 55,
      "outputs": []
    },
    {
      "cell_type": "code",
      "source": [],
      "metadata": {
        "id": "m5WRgN_DOYYk"
      },
      "execution_count": null,
      "outputs": []
    }
  ]
}