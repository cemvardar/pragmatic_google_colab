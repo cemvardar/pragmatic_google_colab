{
  "nbformat": 4,
  "nbformat_minor": 0,
  "metadata": {
    "colab": {
      "provenance": [],
      "authorship_tag": "ABX9TyM76UXhmgv5AgyBHTicpUK9",
      "include_colab_link": true
    },
    "kernelspec": {
      "name": "python3",
      "display_name": "Python 3"
    },
    "language_info": {
      "name": "python"
    }
  },
  "cells": [
    {
      "cell_type": "markdown",
      "metadata": {
        "id": "view-in-github",
        "colab_type": "text"
      },
      "source": [
        "<a href=\"https://colab.research.google.com/github/cemvardar/pragmatic_google_colab/blob/main/dslab_colab_utility_main.ipynb\" target=\"_parent\"><img src=\"https://colab.research.google.com/assets/colab-badge.svg\" alt=\"Open In Colab\"/></a>"
      ]
    },
    {
      "cell_type": "code",
      "execution_count": 1,
      "metadata": {
        "colab": {
          "base_uri": "https://localhost:8080/"
        },
        "id": "h6YobZHn4CyP",
        "outputId": "1bfd44a8-013f-4fa2-a5c8-6bb652a3342e"
      },
      "outputs": [
        {
          "output_type": "stream",
          "name": "stdout",
          "text": [
            "\u001b[?25l   \u001b[90m━━━━━━━━━━━━━━━━━━━━━━━━━━━━━━━━━━━━━━━━\u001b[0m \u001b[32m0.0/1.4 MB\u001b[0m \u001b[31m?\u001b[0m eta \u001b[36m-:--:--\u001b[0m\r\u001b[2K   \u001b[91m━━━━━━━\u001b[0m\u001b[91m╸\u001b[0m\u001b[90m━━━━━━━━━━━━━━━━━━━━━━━━━━━━━━━━\u001b[0m \u001b[32m0.3/1.4 MB\u001b[0m \u001b[31m8.8 MB/s\u001b[0m eta \u001b[36m0:00:01\u001b[0m\r\u001b[2K   \u001b[91m━━━━━━━━━━━━━━━━━━━━━━━━━━━━━━━━━━━━━━━\u001b[0m\u001b[91m╸\u001b[0m \u001b[32m1.4/1.4 MB\u001b[0m \u001b[31m22.9 MB/s\u001b[0m eta \u001b[36m0:00:01\u001b[0m\r\u001b[2K   \u001b[90m━━━━━━━━━━━━━━━━━━━━━━━━━━━━━━━━━━━━━━━━\u001b[0m \u001b[32m1.4/1.4 MB\u001b[0m \u001b[31m18.2 MB/s\u001b[0m eta \u001b[36m0:00:00\u001b[0m\n",
            "\u001b[?25h\u001b[?25l   \u001b[90m━━━━━━━━━━━━━━━━━━━━━━━━━━━━━━━━━━━━━━━━\u001b[0m \u001b[32m0.0/313.6 kB\u001b[0m \u001b[31m?\u001b[0m eta \u001b[36m-:--:--\u001b[0m\r\u001b[2K   \u001b[90m━━━━━━━━━━━━━━━━━━━━━━━━━━━━━━━━━━━━━━━━\u001b[0m \u001b[32m313.6/313.6 kB\u001b[0m \u001b[31m22.6 MB/s\u001b[0m eta \u001b[36m0:00:00\u001b[0m\n",
            "\u001b[?25h"
          ]
        }
      ],
      "source": [
        "!pip install -q pymongo\n",
        "import json\n",
        "import requests\n",
        "import pandas as pd\n",
        "import random\n",
        "import folium\n",
        "from pymongo import MongoClient\n",
        "import urllib.parse\n",
        "from datetime import datetime\n",
        "from google.oauth2 import service_account\n",
        "import mimetypes\n",
        "import os\n",
        "from google.cloud import storage\n",
        "from oauth2client.service_account import ServiceAccountCredentials\n",
        "import httplib2\n",
        "\n",
        "from google.colab import auth\n",
        "auth.authenticate_user()\n",
        "\n",
        "import gspread\n",
        "from google.auth import default\n",
        "from google.colab import sheets\n",
        "from IPython.display import HTML, display\n"
      ]
    },
    {
      "cell_type": "code",
      "source": [
        "\n",
        "\n",
        "def read_df_from_sheet_gspread(sheet_url, worksheet_name=None):\n",
        "    creds, _ = default()\n",
        "    gc = gspread.authorize(creds)\n",
        "\n",
        "    # Extract the sheet ID from the URL\n",
        "    sheet_id = sheet_url.split('/d/')[1].split('/')[0]\n",
        "\n",
        "    sheet = gc.open_by_key(sheet_id)\n",
        "    if worksheet_name:\n",
        "        worksheet = sheet.worksheet(worksheet_name)\n",
        "        values = worksheet.get_all_values()\n",
        "        df = pd.DataFrame(values[1:], columns=values[0])  # This assumes the first row is the header\n",
        "        return df\n",
        "\n",
        "    if worksheet_name is None and len(sheet.worksheets())==1:\n",
        "        worksheet = sheet.worksheets()[0]\n",
        "        values = worksheet.get_all_values()\n",
        "        df = pd.DataFrame(values[1:], columns=values[0])  # This assumes the first row is the header\n",
        "        return df\n",
        "\n",
        "    df_dict = {}\n",
        "    for worksheet in sheet.worksheets():\n",
        "    # Use the first sheet by default, or specify the name of the sheet you want to access\n",
        "\n",
        "        # Get all values from the sheet\n",
        "        values = worksheet.get_all_values()\n",
        "\n",
        "        # Convert to a pandas DataFrame\n",
        "        df = pd.DataFrame(values[1:], columns=values[0])  # This assumes the first row is the header\n",
        "        df_dict[worksheet.title] = df\n",
        "    return df_dict\n",
        "\n",
        "\n",
        "def post_to_rest_api(payload, url):\n",
        "    headers = {'Content-type': 'application/json', 'Accept': 'application/json'}\n",
        "    r = requests.post(url,\n",
        "                      json.dumps(payload),\n",
        "                      headers=headers)\n",
        "    return r\n",
        "\n",
        "def get_df_from_sheet(key, sheet_name):\n",
        "    url = 'http://decisionsciencelab.com/api/v1.0/get_sheet_json'\n",
        "    payload = {'key':key,\n",
        "               'sheet_name':sheet_name}\n",
        "    r = post_to_rest_api(payload, url)\n",
        "    return pd.DataFrame(r.json())\n",
        "\n",
        "\n",
        "def get_mongodb_url():\n",
        "    userid = secrets['mongodb_user']\n",
        "    password = urllib.parse.quote_plus(secrets['mongodb_password'])\n",
        "    mongodb_uri = \"mongodb+srv://\" + userid + \":\" + password + \"@location-selection.vfmji.gcp.mongodb.net/location_selection?retryWrites=true&w=majority\"\n",
        "    return mongodb_uri\n",
        "\n",
        "\n",
        "def get_document_list_from_mongodb(db_name, collection_name):\n",
        "    client = MongoClient(get_mongodb_url(), retryWrites=False)\n",
        "    database = client[db_name]\n",
        "    list_records = [doc for doc in database[collection_name].find()]\n",
        "    return list_records\n",
        "\n",
        "\n",
        "def get_df_from_mongodb(db_name, collection_name):\n",
        "    list_records = get_document_list_from_mongodb(db_name, collection_name)\n",
        "    df = pd.DataFrame(list_records)\n",
        "    return df\n",
        "\n",
        "\n",
        "def get_collection(db_name, collection_name):\n",
        "    client = MongoClient(get_mongodb_url(), retryWrites=False)\n",
        "    database = client[db_name]\n",
        "    return database[collection_name]\n",
        "\n",
        "\n",
        "def insert(db_name, collection_name, json_doc):\n",
        "    collection = get_collection(db_name, collection_name)\n",
        "    collection.insert_one(json_doc)\n",
        "\n",
        "\n",
        "def upsert(db_name, collection_name, query, doc_to_upsert):\n",
        "    collection = get_collection(db_name, collection_name)\n",
        "    # collection.update(query, doc_to_upsert, upsert=True, safe=True)\n",
        "    collection.update_one(query, {'$set': doc_to_upsert}, upsert=True)\n",
        "\n",
        "\n",
        "def now():\n",
        "    return datetime.now()\n",
        "\n",
        "\n",
        "def get_gcp_bucket_credentials():\n",
        "    creds = {\n",
        "    \"type\": \"service_account\",\n",
        "    \"project_id\": \"cem-k8-test\",\n",
        "    \"private_key_id\": \"\",\n",
        "    \"private_key\": \"\",\n",
        "    \"client_email\": \"dslab-gcp-bucket@cem-k8-test.iam.gserviceaccount.com\",\n",
        "    \"client_id\": \"101834349465593903398\",\n",
        "    \"auth_uri\": \"https://accounts.google.com/o/oauth2/auth\",\n",
        "    \"token_uri\": \"https://oauth2.googleapis.com/token\",\n",
        "    \"auth_provider_x509_cert_url\": \"https://www.googleapis.com/oauth2/v1/certs\",\n",
        "    \"client_x509_cert_url\": \"https://www.googleapis.com/robot/v1/metadata/x509/dslab-gcp-bucket%40cem-k8-test.iam.gserviceaccount.com\"\n",
        "    }\n",
        "    creds[\"private_key_id\"]=secrets['gcp_private_key_id']\n",
        "    creds[\"private_key\"]=secrets['gcp_private_key'].replace('\\\\n', '\\n')\n",
        "    gcp_bucket_credentials = service_account.Credentials.from_service_account_info(creds)\n",
        "    return gcp_bucket_credentials\n",
        "\n",
        "\n",
        "def upload_file_to_gcp_generic_mime_type(file_name, sub_folder_path, delete_file_from_local = False):\n",
        "    bucket_name = 'decision-science-lab-bucket'\n",
        "    project_id = 'cem-k8-test'\n",
        "    client = storage.Client(project=project_id, credentials=get_gcp_bucket_credentials())\n",
        "\n",
        "    mime_type, _ = mimetypes.guess_type(file_name)\n",
        "    if mime_type is None:\n",
        "        mime_type = 'application/octet-stream'  # Default/fallback MIME type\n",
        "    upload_file_name = file_name.replace(' ', '_')\n",
        "    bucket = client.bucket(bucket_name)\n",
        "    blob = bucket.blob(f\"{sub_folder_path}/{upload_file_name}\")\n",
        "    blob.upload_from_filename(file_name, content_type=mime_type)\n",
        "\n",
        "    # Delete local file\n",
        "    if delete_file_from_local and os.path.exists(file_name):\n",
        "        os.remove(file_name)\n",
        "        print(f\"{file_name} successfully uploaded to GCP and deleted from local\")\n",
        "\n",
        "    uploaded_file_gcp_link = f'https://storage.googleapis.com/decision-science-lab-bucket/' \\\n",
        "                     f'{sub_folder_path}/{upload_file_name}'\n",
        "    print(uploaded_file_gcp_link)\n",
        "    return uploaded_file_gcp_link\n",
        "\n",
        "\n",
        "def get_all_urls_in_gcp_sub_folder_path(sub_folder_path):\n",
        "    bucket_name = 'decision-science-lab-bucket'\n",
        "    project_id = 'cem-k8-test'\n",
        "    client = storage.Client(project=project_id, credentials=get_gcp_bucket_credentials())\n",
        "    bucket = client.bucket(bucket_name)\n",
        "    blobs = client.list_blobs(bucket_name, prefix=sub_folder_path + '/')\n",
        "    url_prefix = 'https://storage.googleapis.com/decision-science-lab-bucket/'\n",
        "    url_list = []\n",
        "    for blob in blobs:\n",
        "        url_list.append(url_prefix+blob.name)\n",
        "    return url_list\n",
        "\n",
        "\n",
        "def get_secrets():\n",
        "    sheet_url = 'https://docs.google.com/spreadsheets/d/1mLwdiSnTi0KoB8Zg6kMclTXXm3f_JavMX-5lAUp-Ry0/edit#gid=0'\n",
        "    sheet_name = 'dev'\n",
        "    df_keys = read_df_from_sheet_gspread(sheet_url, worksheet_name=sheet_name)\n",
        "    key_dict = dict(zip(df_keys['key'], df_keys['value']))\n",
        "    return key_dict\n",
        "\n",
        "\n",
        "secrets = get_secrets()"
      ],
      "metadata": {
        "id": "9gSvmGJK4PPb"
      },
      "execution_count": 2,
      "outputs": []
    },
    {
      "cell_type": "code",
      "source": [
        "import shutil\n",
        "\n",
        "def upload_gdrive_file_to_gcp_generic_mime_type(file_path, gcp_path):\n",
        "    video_filename = file_path.split('/')[-1]\n",
        "    destination_path = f'/content/{video_filename}' # Copy to current Colab directory\n",
        "\n",
        "    if os.path.exists(file_path):\n",
        "        shutil.copy2(file_path, destination_path) # copy2 preserves metadata\n",
        "        print(f\"File '{file_path}' copied successfully to '{destination_path}'\")\n",
        "    else:\n",
        "        print(f\"Error: Source file '{file_path}' not found.\")\n",
        "    video_url = upload_file_to_gcp_generic_mime_type(video_filename, gcp_path, delete_file_from_local = True)\n",
        "    return video_url\n",
        "\n",
        "\n",
        "# sub_folder_path = 'liplips/roma_silvers_products'\n",
        "# urls = get_all_urls_in_gcp_sub_folder_path(sub_folder_path)\n",
        "# urls[:5]\n",
        "# len(urls)"
      ],
      "metadata": {
        "id": "HmubhYeW5ThV"
      },
      "execution_count": 3,
      "outputs": []
    },
    {
      "cell_type": "code",
      "source": [
        "def get_file_name_for_export_with_date_time(file_name_header, file_extenstion):\n",
        "    formatted_datetime = now().strftime(\"%m_%d_%Y_%H_%M_%S\")\n",
        "    file_name = f\"{file_name_header}_{formatted_datetime}.{file_extenstion}\"\n",
        "    file_name = file_name.replace(' ', '_')\n",
        "    return file_name"
      ],
      "metadata": {
        "id": "RMMnAdMy8Rfh"
      },
      "execution_count": null,
      "outputs": []
    },
    {
      "cell_type": "code",
      "source": [
        "def get_time_stamp_string():\n",
        "    return now().strftime(\"%m_%d_%Y_%H_%M_%S\")\n",
        "\n",
        "# get_time_stamp_string()"
      ],
      "metadata": {
        "id": "C5zFM_6z8uSo",
        "colab": {
          "base_uri": "https://localhost:8080/",
          "height": 35
        },
        "outputId": "fcdeacf3-930c-42d6-8bbb-a6c76e1af729"
      },
      "execution_count": null,
      "outputs": [
        {
          "output_type": "execute_result",
          "data": {
            "text/plain": [
              "'07_27_2024_11_59_45'"
            ],
            "application/vnd.google.colaboratory.intrinsic+json": {
              "type": "string"
            }
          },
          "metadata": {},
          "execution_count": 5
        }
      ]
    },
    {
      "cell_type": "code",
      "source": [],
      "metadata": {
        "id": "09r2DE8sDndq"
      },
      "execution_count": null,
      "outputs": []
    }
  ]
}